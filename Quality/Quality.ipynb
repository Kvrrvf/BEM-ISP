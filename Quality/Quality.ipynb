{
 "cells": [
  {
   "cell_type": "markdown",
   "metadata": {},
   "source": [
    "### __Reads quality__\n",
    "\n",
    "* FastQC\n",
    "* Falco"
   ]
  },
  {
   "cell_type": "code",
   "execution_count": null,
   "metadata": {},
   "outputs": [],
   "source": [
    "%%bash \n",
    "\n",
    "cd ~/ISP/samples\n",
    "\n",
    "fastqc -o ~/ISP/samples/fastqc \\\n",
    "    VA1565_2021/1565_21_S75_R1_001.fastq.gz  VA1565_2021/1565_21_S75_R2_001.fastq.gz\\\n",
    "    VA1788_2021/S78_R1.fastq.gz VA1788_2021/S78_R2.fastq.gz\\\n",
    "    VA2067_2020/2067_20_S67_R1_001.fastq.gz VA2067_2020/2067_20_S67_R2_001.fastq.gz\\\n",
    "    VA2464_2020/VA2464_20_R1_trim.fastq.gz VA2464_2020/VA2464_20_R2_trim.fastq.gz\\\n",
    "    VA2588_2020/S69_R1.fastq.gz VA2588_2020/S69_R2.fastq.gz\\\n",
    "    VA418_2022/S72_R1.fastq.gz VA418_2022/S72_R2.fastq.gz\\\n",
    "    VA585_2022/S85_R1.fastq.gz VA585_2022/S85_R2.fastq.gz\\\n",
    "    VA692_2022/S80_R1.fastq.gz VA692_2022/692_22_S80_R2.fastq.gz\\\n",
    "    VA1101_2021/1101_21_S87_R1_001.fastq.gz VA1101_2021/1101_21_S87_R2_001.fastq.gz\\\n",
    "    VA1184_2021/1184_21_S88_R1_001.fastq.gz VA1184_2021/1184_21_S88_R2_001.fastq.gz\\\n",
    "    VA61_2022/61_22_S82_R1_001.fastq.gz VA61_2022/61_22_S82_R2_001.fastq.gz\\\n",
    "    VA1046_2020/S63_R1.fastq.gz VA1046_2020/S63_R2.fastq.gz\\\n",
    "\n",
    "cd ~/ISP/samples/fastqc\n",
    "\n",
    "multiqc ."
   ]
  },
  {
   "cell_type": "markdown",
   "metadata": {},
   "source": [
    "__Notes:__\n",
    "\n",
    "* ~~VA692_2022/S80_R2     DATA ERROR (fastqc don´t read)~~ (solved. bad path)\n",
    "* Human readable report in /samples/fastqc/multiqc_data/multiqc_report.html\n",
    "* __Assemble without trimming sequences__"
   ]
  },
  {
   "cell_type": "code",
   "execution_count": null,
   "metadata": {},
   "outputs": [],
   "source": [
    "!zcat ~/ISP/samples/VA61_2022/61_22_S82_R1_001.fastq.gz | head -n 15"
   ]
  },
  {
   "cell_type": "markdown",
   "metadata": {},
   "source": [
    "__Quality overview__\n",
    "\n",
    "* Falco is a C++ implementation of FastQc"
   ]
  },
  {
   "cell_type": "code",
   "execution_count": null,
   "metadata": {},
   "outputs": [],
   "source": [
    "%%bash\n",
    "\n",
    "cd ~/ISP/samples/VA1565_2021\n",
    "falco 1565_21_S75_R1_001.fastq.gz 1565_21_S75_R2_001.fastq.gz\n",
    "\n",
    "cd ~/ISP/samples/VA1788_2021\n",
    "falco S78_R1.fastq.gz S78_R2.fastq.gz\n",
    "\n",
    "cd ~/ISP/samples/VA2067_2020\n",
    "falco 2067_20_S67_R1_001.fastq.gz 2067_20_S67_R2_001.fastq.gz\n",
    "\n",
    "cd ~/ISP/samples/VA2464_2020\n",
    "falco VA2464_20_R1_trim.fastq.gz VA2464_20_R2_trim.fastq.gz\n",
    "\n",
    "cd ~/ISP/samples/VA2588_2020\n",
    "falco S69_R1.fastq.gz S69_R2.fastq.gz\n",
    "\n",
    "cd ~/ISP/samples/VA418_2022\n",
    "falco S72_R1.fastq.gz S72_R2.fastq.gz\n",
    "\n",
    "cd ~/ISP/samples/VA585_2022\n",
    "falco S85_R1.fastq.gz S85_R2.fastq.gz\n",
    "\n",
    "cd ~/ISP/samples/VA692_2022\n",
    "falco S80_R1.fastq.gz S80_R2.fastq.gz\n",
    "\n",
    "cd ~/ISP/samples/VA1101_2021\n",
    "falco 1101_21_S87_R1_001.fastq.gz 1101_21_S87_R2_001.fastq.gz\n",
    "\n",
    "cd ~/ISP/samples/VA1184_2021 \n",
    "falco 1184_21_S88_R1_001.fastq.gz 1184_21_S88_R2_001.fastq.gz"
   ]
  },
  {
   "cell_type": "code",
   "execution_count": null,
   "metadata": {},
   "outputs": [],
   "source": [
    "%%bash\n",
    "\n",
    "directories=(\n",
    "\"~/ISP/samples/VA1565_2021 1565_21_S75_R1_001.fastq.gz 1565_21_S75_R2_001.fastq.gz\"\n",
    "\"~/ISP/samples/VA1788_2021 S78_R1.fastq.gz S78_R2.fastq.gz\"\n",
    "\"~/ISP/samples/VA2067_2020 2067_20_S67_R1_001.fastq.gz 2067_20_S67_R2_001.fastq.gz\"\n",
    "\"~/ISP/samples/VA2464_2020 VA2464_20_R1_trim.fastq.gz VA2464_20_R2_trim.fastq.gz\"\n",
    "\"~/ISP/samples/VA2588_2020 S69_R1.fastq.gz S69_R2.fastq.gz\"\n",
    "\"~/ISP/samples/VA418_2022 S72_R1.fastq.gz S72_R2.fastq.gz\"\n",
    "\"~/ISP/samples/VA585_2022 S85_R1.fastq.gz S85_R2.fastq.gz\"\n",
    "\"~/ISP/samples/VA692_2022 S80_R1.fastq.gz S80_R2.fastq.gz\"\n",
    "\"~/ISP/samples/VA1101_2021 1101_21_S87_R1_001.fastq.gz 1101_21_S87_R2_001.fastq.gz\"\n",
    "\"~/ISP/samples/VA1184_2021 1184_21_S88_R1_001.fastq.gz 1184_21_S88_R2_001.fastq.gz\"\n",
    ")\n",
    "\n",
    "for i in \"${directories[@]}\"; do\n",
    "    set -- $i\n",
    "    cd $1\n",
    "    falco $2 $3\n",
    "    find . -type f \\( -name \"*.html\" -o -name \"*.txt\" \\) -exec mv {} ~/ISP/samples/falco \\;\n",
    "done"
   ]
  }
 ],
 "metadata": {
  "language_info": {
   "name": "python"
  }
 },
 "nbformat": 4,
 "nbformat_minor": 2
}
