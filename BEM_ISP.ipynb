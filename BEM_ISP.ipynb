{
 "cells": [
  {
   "cell_type": "markdown",
   "metadata": {},
   "source": [
    "26 de Junio, 2024\n",
    "\n",
    "__Pendiente:__\n",
    "\n",
    "* Generar como un dataframe el perfil completo de AMR (amrfinder), agrupado por especies.\n",
    "* Realizar blast con la base de datos VFDB. Utilizar base depurada en `npilquinao@dayhoff:/media/databases/VFDB_PA_16.04-24`\n",
    "* De cada genoma, extraer los plásmidos y crear un multifasta utilizando el formato: p-muestra-kilobases (pVA585-40)\n",
    "\n",
    "__Notas:__\n",
    "\n",
    "- Recordar conectar con los hits de Patricio.\n",
    "- Usar el .dmnd para el segundo paso con diamond\n",
    "- Correr diamond con el flag best_hit por la redundancia\n",
    "- Solo incluir plásmidos completos (cerrados) en el multifasta\n",
    "- Buscar estadísticas básicas (como el N50) dentro del output de hybracter\n",
    "- Usar CheckM con los genomas para clasificación taxonómica y valores de contaminación\n",
    "- Usar Quast (o encontrar dentro del output de hybracter) para encontrar la profundidad de cobertura"
   ]
  },
  {
   "cell_type": "markdown",
   "metadata": {},
   "source": [
    "#### __VFDB & Diamond__\n",
    "\n",
    "__Docs:__\n",
    "\n",
    "https://github.com/bbuchfink/diamond/wiki"
   ]
  },
  {
   "cell_type": "markdown",
   "metadata": {},
   "source": [
    "__Database file (.dmnd) info__"
   ]
  },
  {
   "cell_type": "code",
   "execution_count": 10,
   "metadata": {},
   "outputs": [
    {
     "name": "stderr",
     "output_type": "stream",
     "text": [
      "diamond v2.1.9.163 (C) Max Planck Society for the Advancement of Science, Benjamin Buchfink, University of Tuebingen\n",
      "Documentation, support and updates available at http://www.diamondsearch.org\n",
      "Please cite: http://dx.doi.org/10.1038/s41592-021-01101-x Nature Methods (2021)\n",
      "\n"
     ]
    },
    {
     "name": "stdout",
     "output_type": "stream",
     "text": [
      "          Database type  Diamond database\n",
      "Database format version  3\n",
      "          Diamond build  163\n",
      "              Sequences  27982\n",
      "                Letters  13298383\n"
     ]
    }
   ],
   "source": [
    "%%bash\n",
    "\n",
    "diamond dbinfo \\\n",
    "    --threads 40 \\\n",
    "    --verbose \\\n",
    "    --db /home/npilquinao/BEM-ISP/group_storage/VFDB/VFDB_PA_16-04-24/VFDB_structure_file.dmnd"
   ]
  },
  {
   "cell_type": "markdown",
   "metadata": {},
   "source": [
    "__Diamond-blastx flags__"
   ]
  },
  {
   "cell_type": "code",
   "execution_count": 5,
   "metadata": {},
   "outputs": [
    {
     "name": "stdout",
     "output_type": "stream",
     "text": [
      "diamond v2.1.9.163 (C) Max Planck Society for the Advancement of Science, Benjamin Buchfink, University of Tuebingen\n",
      "Documentation, support and updates available at http://www.diamondsearch.org\n",
      "Please cite: http://dx.doi.org/10.1038/s41592-021-01101-x Nature Methods (2021)\n",
      "\n",
      "Options:\n",
      "--threads                number of CPU threads\n",
      "--verbose                verbose console output\n",
      "--log                    enable debug log\n",
      "--quiet                  disable console output\n",
      "--tmpdir                 directory for temporary files\n",
      "--db                     database file\n",
      "--out                    output file\n",
      "--header                 Use header lines in tabular output format (0/simple/verbose).\n",
      "--comp-based-stats       composition based statistics mode (0-4)\n",
      "--masking                masking algorithm (none, seg, tantan=default)\n",
      "--soft-masking           soft masking (none=default, seg, tantan)\n",
      "--evalue                 maximum e-value to report alignments (default=0.001)\n",
      "--motif-masking          softmask abundant motifs (0/1)\n",
      "--approx-id              minimum approx. identity% to report an alignment/to cluster sequences\n",
      "--ext                    Extension mode (banded-fast/banded-slow/full)\n",
      "--max-target-seqs        maximum number of target sequences to report alignments for (default=25)\n",
      "--top                    report alignments within this percentage range of top alignment score (overrides --max-target-seqs)\n",
      "--faster                 enable faster mode\n",
      "--fast                   enable fast mode\n",
      "--mid-sensitive          enable mid-sensitive mode\n",
      "--shapes-30x10           enable mode using 30 seed shapes of weight 10\n",
      "--sensitive              enable sensitive mode)\n",
      "--more-sensitive         enable more sensitive mode\n",
      "--very-sensitive         enable very sensitive mode\n",
      "--ultra-sensitive        enable ultra sensitive mode\n",
      "--shapes                 number of seed shapes (default=all available)\n",
      "--query                  input query file\n",
      "--strand                 query strands to search (both/minus/plus)\n",
      "--un                     file for unaligned queries\n",
      "--al                     file or aligned queries\n",
      "--unfmt                  format of unaligned query file (fasta/fastq)\n",
      "--alfmt                  format of aligned query file (fasta/fastq)\n",
      "--unal                   report unaligned queries (0=no, 1=yes)\n",
      "--max-hsps               maximum number of HSPs per target sequence to report for each query (default=1)\n",
      "--range-culling          restrict hit culling to overlapping query ranges\n",
      "--compress               compression for output files (0=none, 1=gzip, zstd)\n",
      "--min-score              minimum bit score to report alignments (overrides e-value setting)\n",
      "--id                     minimum identity% to report an alignment\n",
      "--query-cover            minimum query cover% to report an alignment\n",
      "--subject-cover          minimum subject cover% to report an alignment\n",
      "--swipe                  exhaustive alignment against all database sequences\n",
      "--iterate                iterated search with increasing sensitivity\n",
      "--global-ranking         number of targets for global ranking\n",
      "--block-size             sequence block size in billions of letters (default=2.0)\n",
      "--index-chunks           number of chunks for index processing (default=4)\n",
      "--parallel-tmpdir        directory for temporary files used by multiprocessing\n",
      "--gapopen                gap open penalty\n",
      "--gapextend              gap extension penalty\n",
      "--matrix                 score matrix for protein alignment (default=BLOSUM62)\n",
      "--custom-matrix          file containing custom scoring matrix\n",
      "--frameshift             frame shift penalty (default=disabled)\n",
      "--long-reads             short for --range-culling --top 10 -F 15\n",
      "--query-gencode          genetic code to use to translate query (see user manual)\n",
      "--salltitles             include full subject titles in DAA file\n",
      "--sallseqid              include all subject ids in DAA file\n",
      "--no-self-hits           suppress reporting of identical self hits\n",
      "--taxonlist              restrict search to list of taxon ids (comma-separated)\n",
      "--taxon-exclude          exclude list of taxon ids (comma-separated)\n",
      "--seqidlist              filter the database by list of accessions\n",
      "--skip-missing-seqids    ignore accessions missing in the database\n",
      "--outfmt                 output format\n",
      "\t0   = BLAST pairwise\n",
      "\t5   = BLAST XML\n",
      "\t6   = BLAST tabular\n",
      "\t100 = DIAMOND alignment archive (DAA)\n",
      "\t101 = SAM\n",
      "\t102 = Taxonomic classification\n",
      "\t103 = PAF\n",
      "\t104 = JSON (flat)\n",
      "\n",
      "\tValues 6 and 104 may be followed by a space-separated list of these keywords:\n",
      "\n",
      "\tqseqid means Query Seq - id\n",
      "\tqlen means Query sequence length\n",
      "\tsseqid means Subject Seq - id\n",
      "\tsallseqid means All subject Seq - id(s), separated by a ';'\n",
      "\tslen means Subject sequence length\n",
      "\tqstart means Start of alignment in query\n",
      "\tqend means End of alignment in query\n",
      "\tsstart means Start of alignment in subject\n",
      "\tsend means End of alignment in subject\n",
      "\tqseq means Aligned part of query sequence\n",
      "\tqseq_gapped means Aligned part of query sequence (with gaps)\n",
      "\tqseq_translated means Aligned part of query sequence (translated)\n",
      "\tfull_qseq means Query sequence\n",
      "\tfull_qseq_mate means Query sequence of the mate\n",
      "\tsseq means Aligned part of subject sequence\n",
      "\tsseq_gapped means Aligned part of subject sequence (with gaps)\n",
      "\tfull_sseq means Subject sequence\n",
      "\tevalue means Expect value\n",
      "\tbitscore means Bit score\n",
      "\tcorrected_bitscore means Bit score corrected for edge effects\n",
      "\tscore means Raw score\n",
      "\tlength means Alignment length\n",
      "\tpident means Percentage of identical matches\n",
      "\tapprox_pident means Approximate percentage of identical matches\n",
      "\tnident means Number of identical matches\n",
      "\tmismatch means Number of mismatches\n",
      "\tpositive means Number of positive - scoring matches\n",
      "\tgapopen means Number of gap openings\n",
      "\tgaps means Total number of gaps\n",
      "\tppos means Percentage of positive - scoring matches\n",
      "\tqframe means Query frame\n",
      "\tbtop means Blast traceback operations(BTOP)\n",
      "\tcigar means CIGAR string\n",
      "\tstaxids means unique Subject Taxonomy ID(s), separated by a ';' (in numerical order)\n",
      "\tsscinames means unique Subject Scientific Name(s), separated by a ';'\n",
      "\tsskingdoms means unique Subject Super Kingdom(s), separated by a ';'\n",
      "\tskingdoms means unique Subject Kingdom(s), separated by a ';'\n",
      "\tsphylums means unique Subject Phylum(s), separated by a ';'\n",
      "\tstitle means Subject Title\n",
      "\tsalltitles means All Subject Title(s), separated by a '<>'\n",
      "\tqcovhsp means Query Coverage Per HSP\n",
      "\tscovhsp means Subject Coverage Per HSP\n",
      "\tqtitle means Query title\n",
      "\tqqual means Query quality values for the aligned part of the query\n",
      "\tfull_qqual means Query quality values\n",
      "\tqstrand means Query strand\n",
      "\n",
      "\tDefault: qseqid sseqid pident length mismatch gapopen qstart qend sstart send evalue bitscore\n",
      "--include-lineage        Include lineage in the taxonomic classification format\n",
      "--file-buffer-size       file buffer size in bytes (default=67108864)\n",
      "--no-unlink              Do not unlink temporary files.\n",
      "--ignore-warnings        Ignore warnings\n",
      "--no-parse-seqids        Print raw seqids without parsing\n",
      "--bin                    number of query bins for seed search\n",
      "--ext-chunk-size         chunk size for adaptive ranking (default=auto)\n",
      "--no-ranking             disable ranking heuristic\n",
      "--dbsize                 effective database size (in letters)\n",
      "--no-auto-append         disable auto appending of DAA and DMND file extensions\n",
      "--tantan-minMaskProb     minimum repeat probability for masking (default=0.9)\n",
      "--algo                   Seed search algorithm (0=double-indexed/1=query-indexed/ctg=contiguous-seed)\n",
      "--min-orf                ignore translated sequences without an open reading frame of at least this length\n",
      "--seed-cut               cutoff for seed complexity\n",
      "--freq-masking           mask seeds based on frequency\n",
      "--freq-sd                number of standard deviations for ignoring frequent seeds\n",
      "--id2                    minimum number of identities for stage 1 hit\n",
      "--linsearch              only consider seed hits against longest target for identical seeds\n",
      "--lin-stage1             only consider seed hits against longest query for identical seeds\n",
      "--xdrop                  xdrop for ungapped alignment\n",
      "--gapped-filter-evalue   E-value threshold for gapped filter (auto)\n",
      "--band                   band for dynamic programming computation\n",
      "--shape-mask             seed shapes\n",
      "--multiprocessing        enable distributed-memory parallel processing\n",
      "--mp-init                initialize multiprocessing run\n",
      "--mp-recover             enable continuation of interrupted multiprocessing run\n",
      "--mp-query-chunk         process only a single query chunk as specified\n",
      "--culling-overlap        minimum range overlap with higher scoring hit to delete a hit (default=50%)\n",
      "--taxon-k                maximum number of targets to report per species\n",
      "--range-cover            percentage of query range to be covered for range culling (default=50%)\n",
      "--xml-blord-format       Use gnl|BL_ORD_ID| style format in XML output\n",
      "--sam-query-len          add the query length to the SAM format (tag ZQ)\n",
      "--stop-match-score       Set the match score of stop codons against each other.\n",
      "--target-indexed         Enable target-indexed mode\n",
      "--daa                    DIAMOND alignment archive (DAA) file\n",
      "--window                 window size for local hit search\n",
      "--ungapped-score         minimum alignment score to continue local extension\n",
      "--hit-band               band for hit verification\n",
      "--hit-score              minimum score to keep a tentative alignment\n",
      "--gapped-xdrop           xdrop for gapped alignment in bits\n",
      "--rank-ratio2            include subjects within this ratio of last hit (stage 2)\n",
      "--rank-ratio             include subjects within this ratio of last hit\n",
      "--lambda                 lambda parameter for custom matrix\n",
      "--K                      K parameter for custom matrix\n",
      "\n",
      "Error: Missing parameter: database file (--db/-d)\n"
     ]
    }
   ],
   "source": [
    "!diamond blastx"
   ]
  },
  {
   "cell_type": "markdown",
   "metadata": {},
   "source": [
    "__Test__"
   ]
  },
  {
   "cell_type": "code",
   "execution_count": 7,
   "metadata": {},
   "outputs": [
    {
     "name": "stderr",
     "output_type": "stream",
     "text": [
      "diamond v2.1.9.163 (C) Max Planck Society for the Advancement of Science, Benjamin Buchfink, University of Tuebingen\n",
      "Documentation, support and updates available at http://www.diamondsearch.org\n",
      "Please cite: http://dx.doi.org/10.1038/s41592-021-01101-x Nature Methods (2021)\n",
      "\n",
      "#CPU threads: 60\n",
      "Scoring parameters: (Matrix=BLOSUM62 Lambda=0.267 K=0.041 Penalties=11/1)\n",
      "CPU features detected: ssse3 popcnt sse4.1 avx2\n",
      "Temporary directory: No such file or directory\n",
      "Error: Error opening temporary file /home/npilquinao/BEM-ISP/group_storage/VFDB/diamond_blastx/tmp/diamond-tmp-q8DMyN\n"
     ]
    },
    {
     "ename": "CalledProcessError",
     "evalue": "Command 'b'\\ndiamond blastx\\\\\\n    --threads 60 \\\\\\n    --verbose \\\\\\n    --tmpdir /home/npilquinao/BEM-ISP/group_storage/VFDB/diamond_blastx/tmp \\\\\\n    --db /home/npilquinao/BEM-ISP/group_storage/VFDB/VFDB_PA_16-04-24/VFDB_structure_file.dmnd \\\\\\n    --out /home/npilquinao/BEM-ISP/group_storage/VFDB/diamond_blastx/VA1046.tsv \\\\\\n    --query /home/npilquinao/BEM-ISP/group_storage/hybracter/output/FINAL_OUTPUT/complete/VA1046_2022_final.fasta\\n'' returned non-zero exit status 1.",
     "output_type": "error",
     "traceback": [
      "\u001b[0;31m---------------------------------------------------------------------------\u001b[0m",
      "\u001b[0;31mCalledProcessError\u001b[0m                        Traceback (most recent call last)",
      "Cell \u001b[0;32mIn[7], line 1\u001b[0m\n\u001b[0;32m----> 1\u001b[0m \u001b[43mget_ipython\u001b[49m\u001b[43m(\u001b[49m\u001b[43m)\u001b[49m\u001b[38;5;241;43m.\u001b[39;49m\u001b[43mrun_cell_magic\u001b[49m\u001b[43m(\u001b[49m\u001b[38;5;124;43m'\u001b[39;49m\u001b[38;5;124;43mbash\u001b[39;49m\u001b[38;5;124;43m'\u001b[39;49m\u001b[43m,\u001b[49m\u001b[43m \u001b[49m\u001b[38;5;124;43m'\u001b[39;49m\u001b[38;5;124;43m'\u001b[39;49m\u001b[43m,\u001b[49m\u001b[43m \u001b[49m\u001b[38;5;124;43m'\u001b[39;49m\u001b[38;5;130;43;01m\\n\u001b[39;49;00m\u001b[38;5;124;43mdiamond blastx\u001b[39;49m\u001b[38;5;130;43;01m\\\\\u001b[39;49;00m\u001b[38;5;130;43;01m\\n\u001b[39;49;00m\u001b[38;5;124;43m    --threads 60 \u001b[39;49m\u001b[38;5;130;43;01m\\\\\u001b[39;49;00m\u001b[38;5;130;43;01m\\n\u001b[39;49;00m\u001b[38;5;124;43m    --verbose \u001b[39;49m\u001b[38;5;130;43;01m\\\\\u001b[39;49;00m\u001b[38;5;130;43;01m\\n\u001b[39;49;00m\u001b[38;5;124;43m    --tmpdir /home/npilquinao/BEM-ISP/group_storage/VFDB/diamond_blastx/tmp \u001b[39;49m\u001b[38;5;130;43;01m\\\\\u001b[39;49;00m\u001b[38;5;130;43;01m\\n\u001b[39;49;00m\u001b[38;5;124;43m    --db /home/npilquinao/BEM-ISP/group_storage/VFDB/VFDB_PA_16-04-24/VFDB_structure_file.dmnd \u001b[39;49m\u001b[38;5;130;43;01m\\\\\u001b[39;49;00m\u001b[38;5;130;43;01m\\n\u001b[39;49;00m\u001b[38;5;124;43m    --out /home/npilquinao/BEM-ISP/group_storage/VFDB/diamond_blastx/VA1046.tsv \u001b[39;49m\u001b[38;5;130;43;01m\\\\\u001b[39;49;00m\u001b[38;5;130;43;01m\\n\u001b[39;49;00m\u001b[38;5;124;43m    --query /home/npilquinao/BEM-ISP/group_storage/hybracter/output/FINAL_OUTPUT/complete/VA1046_2022_final.fasta\u001b[39;49m\u001b[38;5;130;43;01m\\n\u001b[39;49;00m\u001b[38;5;124;43m'\u001b[39;49m\u001b[43m)\u001b[49m\n",
      "File \u001b[0;32m/srv/storage/oceania@storage2.lille.grid5000.f/npilquinao/BEM-ISP/conda/BEM_ISP/lib/python3.11/site-packages/IPython/core/interactiveshell.py:2541\u001b[0m, in \u001b[0;36mInteractiveShell.run_cell_magic\u001b[0;34m(self, magic_name, line, cell)\u001b[0m\n\u001b[1;32m   2539\u001b[0m \u001b[38;5;28;01mwith\u001b[39;00m \u001b[38;5;28mself\u001b[39m\u001b[38;5;241m.\u001b[39mbuiltin_trap:\n\u001b[1;32m   2540\u001b[0m     args \u001b[38;5;241m=\u001b[39m (magic_arg_s, cell)\n\u001b[0;32m-> 2541\u001b[0m     result \u001b[38;5;241m=\u001b[39m \u001b[43mfn\u001b[49m\u001b[43m(\u001b[49m\u001b[38;5;241;43m*\u001b[39;49m\u001b[43margs\u001b[49m\u001b[43m,\u001b[49m\u001b[43m \u001b[49m\u001b[38;5;241;43m*\u001b[39;49m\u001b[38;5;241;43m*\u001b[39;49m\u001b[43mkwargs\u001b[49m\u001b[43m)\u001b[49m\n\u001b[1;32m   2543\u001b[0m \u001b[38;5;66;03m# The code below prevents the output from being displayed\u001b[39;00m\n\u001b[1;32m   2544\u001b[0m \u001b[38;5;66;03m# when using magics with decorator @output_can_be_silenced\u001b[39;00m\n\u001b[1;32m   2545\u001b[0m \u001b[38;5;66;03m# when the last Python token in the expression is a ';'.\u001b[39;00m\n\u001b[1;32m   2546\u001b[0m \u001b[38;5;28;01mif\u001b[39;00m \u001b[38;5;28mgetattr\u001b[39m(fn, magic\u001b[38;5;241m.\u001b[39mMAGIC_OUTPUT_CAN_BE_SILENCED, \u001b[38;5;28;01mFalse\u001b[39;00m):\n",
      "File \u001b[0;32m/srv/storage/oceania@storage2.lille.grid5000.f/npilquinao/BEM-ISP/conda/BEM_ISP/lib/python3.11/site-packages/IPython/core/magics/script.py:155\u001b[0m, in \u001b[0;36mScriptMagics._make_script_magic.<locals>.named_script_magic\u001b[0;34m(line, cell)\u001b[0m\n\u001b[1;32m    153\u001b[0m \u001b[38;5;28;01melse\u001b[39;00m:\n\u001b[1;32m    154\u001b[0m     line \u001b[38;5;241m=\u001b[39m script\n\u001b[0;32m--> 155\u001b[0m \u001b[38;5;28;01mreturn\u001b[39;00m \u001b[38;5;28;43mself\u001b[39;49m\u001b[38;5;241;43m.\u001b[39;49m\u001b[43mshebang\u001b[49m\u001b[43m(\u001b[49m\u001b[43mline\u001b[49m\u001b[43m,\u001b[49m\u001b[43m \u001b[49m\u001b[43mcell\u001b[49m\u001b[43m)\u001b[49m\n",
      "File \u001b[0;32m/srv/storage/oceania@storage2.lille.grid5000.f/npilquinao/BEM-ISP/conda/BEM_ISP/lib/python3.11/site-packages/IPython/core/magics/script.py:315\u001b[0m, in \u001b[0;36mScriptMagics.shebang\u001b[0;34m(self, line, cell)\u001b[0m\n\u001b[1;32m    310\u001b[0m \u001b[38;5;28;01mif\u001b[39;00m args\u001b[38;5;241m.\u001b[39mraise_error \u001b[38;5;129;01mand\u001b[39;00m p\u001b[38;5;241m.\u001b[39mreturncode \u001b[38;5;241m!=\u001b[39m \u001b[38;5;241m0\u001b[39m:\n\u001b[1;32m    311\u001b[0m     \u001b[38;5;66;03m# If we get here and p.returncode is still None, we must have\u001b[39;00m\n\u001b[1;32m    312\u001b[0m     \u001b[38;5;66;03m# killed it but not yet seen its return code. We don't wait for it,\u001b[39;00m\n\u001b[1;32m    313\u001b[0m     \u001b[38;5;66;03m# in case it's stuck in uninterruptible sleep. -9 = SIGKILL\u001b[39;00m\n\u001b[1;32m    314\u001b[0m     rc \u001b[38;5;241m=\u001b[39m p\u001b[38;5;241m.\u001b[39mreturncode \u001b[38;5;129;01mor\u001b[39;00m \u001b[38;5;241m-\u001b[39m\u001b[38;5;241m9\u001b[39m\n\u001b[0;32m--> 315\u001b[0m     \u001b[38;5;28;01mraise\u001b[39;00m CalledProcessError(rc, cell)\n",
      "\u001b[0;31mCalledProcessError\u001b[0m: Command 'b'\\ndiamond blastx\\\\\\n    --threads 60 \\\\\\n    --verbose \\\\\\n    --tmpdir /home/npilquinao/BEM-ISP/group_storage/VFDB/diamond_blastx/tmp \\\\\\n    --db /home/npilquinao/BEM-ISP/group_storage/VFDB/VFDB_PA_16-04-24/VFDB_structure_file.dmnd \\\\\\n    --out /home/npilquinao/BEM-ISP/group_storage/VFDB/diamond_blastx/VA1046.tsv \\\\\\n    --query /home/npilquinao/BEM-ISP/group_storage/hybracter/output/FINAL_OUTPUT/complete/VA1046_2022_final.fasta\\n'' returned non-zero exit status 1."
     ]
    }
   ],
   "source": [
    "%%bash\n",
    "\n",
    "diamond blastx\\\n",
    "    --threads 60 \\\n",
    "    --verbose \\\n",
    "    --tmpdir /home/npilquinao/BEM-ISP/group_storage/VFDB/diamond_blastx/tmp \\\n",
    "    --db /home/npilquinao/BEM-ISP/group_storage/VFDB/VFDB_PA_16-04-24/VFDB_structure_file.dmnd \\\n",
    "    --out /home/npilquinao/BEM-ISP/group_storage/VFDB/diamond_blastx/VA1046.tsv \\\n",
    "    --query /home/npilquinao/BEM-ISP/group_storage/hybracter/output/FINAL_OUTPUT/complete/VA1046_2022_final.fasta"
   ]
  }
 ],
 "metadata": {
  "kernelspec": {
   "display_name": "Python 3",
   "language": "python",
   "name": "python3"
  },
  "language_info": {
   "codemirror_mode": {
    "name": "ipython",
    "version": 3
   },
   "file_extension": ".py",
   "mimetype": "text/x-python",
   "name": "python",
   "nbconvert_exporter": "python",
   "pygments_lexer": "ipython3",
   "version": "3.11.0"
  }
 },
 "nbformat": 4,
 "nbformat_minor": 2
}
