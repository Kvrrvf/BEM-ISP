{
 "cells": [
  {
   "cell_type": "markdown",
   "metadata": {},
   "source": [
    "#### __ISP isolates: double-carbapenemase gen occurrences__\n",
    "\n",
    "With ResFinder and AMRfinder information, make dataframe as:\n",
    "\n",
    "| Sample | Carbapenemase-gene| .fastq reads | Illumina |\n",
    "| ------ | ----------------- | ------------ | -------- |\n",
    "| ... | ... | ... | ...|\n",
    "| VA162_2022 | blaSHV-2a | YES | NO |\n",
    "| ... | ... | ... | ...| "
   ]
  },
  {
   "cell_type": "code",
   "execution_count": 2,
   "metadata": {},
   "outputs": [],
   "source": [
    "import polars as pl"
   ]
  },
  {
   "cell_type": "code",
   "execution_count": 67,
   "metadata": {},
   "outputs": [
    {
     "data": {
      "text/plain": [
       "'ResFinder nrows count: 40'"
      ]
     },
     "metadata": {},
     "output_type": "display_data"
    },
    {
     "name": "stdout",
     "output_type": "stream",
     "text": [
      "shape: (4, 2)\n",
      "┌────────────┬─────────────┐\n",
      "│ genID      ┆ sample      │\n",
      "│ ---        ┆ ---         │\n",
      "│ str        ┆ str         │\n",
      "╞════════════╪═════════════╡\n",
      "│ blaSHV-2a  ┆ VA1046_2020 │\n",
      "│ blaSHV-27  ┆ VA1046_2020 │\n",
      "│ blaSHV-110 ┆ VA1046_2020 │\n",
      "│ blaNDM-7   ┆ VA1046_2020 │\n",
      "└────────────┴─────────────┘\n"
     ]
    },
    {
     "data": {
      "text/plain": [
       "'AMRfinder nrows count: 15'"
      ]
     },
     "metadata": {},
     "output_type": "display_data"
    },
    {
     "name": "stdout",
     "output_type": "stream",
     "text": [
      "shape: (4, 2)\n",
      "┌─────────────┬──────────┐\n",
      "│ sample      ┆ genID    │\n",
      "│ ---         ┆ ---      │\n",
      "│ str         ┆ str      │\n",
      "╞═════════════╪══════════╡\n",
      "│ VA1046_2020 ┆ blaNDM-7 │\n",
      "│ VA1184_2021 ┆ blaVIM-1 │\n",
      "│ VA1788_2021 ┆ blaKPC-3 │\n",
      "│ VA2464_2020 ┆ blaNDM-7 │\n",
      "└─────────────┴──────────┘\n"
     ]
    },
    {
     "data": {
      "text/plain": [
       "'Unique genes in ResFinder: 23'"
      ]
     },
     "metadata": {},
     "output_type": "display_data"
    },
    {
     "data": {
      "text/plain": [
       "['blaVIM-2',\n",
       " 'blaKPC-3',\n",
       " 'blaVIM-1',\n",
       " 'blaACT-14',\n",
       " 'blaKPC-2',\n",
       " 'blaSHV-11',\n",
       " 'blaACT-7',\n",
       " 'blaNDM-1',\n",
       " 'blaSHV-148',\n",
       " 'blaSHV-1',\n",
       " 'blaACT-15',\n",
       " 'blaSHV-158',\n",
       " 'blaSHV-110',\n",
       " 'blaACT-6',\n",
       " 'blaSHV-2a',\n",
       " 'blaNDM-7',\n",
       " 'blaSHV-27',\n",
       " 'blaACT-5',\n",
       " 'blaSHV-81',\n",
       " 'blaACT-10',\n",
       " 'blaSHV-190',\n",
       " 'blaSHV-40',\n",
       " 'blaACT-16']"
      ]
     },
     "metadata": {},
     "output_type": "display_data"
    },
    {
     "data": {
      "text/plain": [
       "'Unique genes in AMRfinder: 6'"
      ]
     },
     "metadata": {},
     "output_type": "display_data"
    },
    {
     "data": {
      "text/plain": [
       "['blaVIM-2', 'blaVIM-1', 'blaKPC-3', 'blaNDM-1', 'blaKPC-2', 'blaNDM-7']"
      ]
     },
     "metadata": {},
     "output_type": "display_data"
    },
    {
     "data": {
      "text/plain": [
       "'Unique genes in both ResFinder and AMRfinder: 23'"
      ]
     },
     "metadata": {},
     "output_type": "display_data"
    },
    {
     "data": {
      "text/plain": [
       "['blaSHV-11',\n",
       " 'blaACT-6',\n",
       " 'blaACT-5',\n",
       " 'blaVIM-1',\n",
       " 'blaNDM-1',\n",
       " 'blaSHV-148',\n",
       " 'blaSHV-190',\n",
       " 'blaNDM-7',\n",
       " 'blaKPC-2',\n",
       " 'blaACT-15',\n",
       " 'blaACT-10',\n",
       " 'blaSHV-2a',\n",
       " 'blaVIM-2',\n",
       " 'blaKPC-3',\n",
       " 'blaACT-16',\n",
       " 'blaSHV-110',\n",
       " 'blaSHV-40',\n",
       " 'blaSHV-27',\n",
       " 'blaACT-7',\n",
       " 'blaSHV-1',\n",
       " 'blaSHV-81',\n",
       " 'blaACT-14',\n",
       " 'blaSHV-158']"
      ]
     },
     "metadata": {},
     "output_type": "display_data"
    },
    {
     "data": {
      "text/plain": [
       "['VA1788_2021',\n",
       " 'VA1046_2020',\n",
       " 'VA1184_2021',\n",
       " 'VA2464_2020',\n",
       " 'VA61_2022',\n",
       " 'VA1565_2021',\n",
       " 'VA2588_2020',\n",
       " 'VA585_2022',\n",
       " 'VA692_2022',\n",
       " 'VA418_2022',\n",
       " 'VA1101_2021',\n",
       " 'VA2067_2020']"
      ]
     },
     "metadata": {},
     "output_type": "display_data"
    }
   ],
   "source": [
    "# Carbapenemase genes occurrences in .fastq reads (ResFinder)\n",
    "\n",
    "resfinder = pl.read_csv(\"ResFinder/only_carbapenemase.tsv\",\n",
    "                        separator=\"\\t\",)\n",
    "\n",
    "resfinder = resfinder.drop([\"Identity\",\n",
    "                            \"Phenotype\"])\n",
    "\n",
    "resfinder = resfinder.rename({\"Sample\": \"sample\"})\n",
    "resfinder = resfinder.rename({\"Resistance gene\": \"genID\"})\n",
    "\n",
    "# Carbapenemase genes occurrences in only illumina-assemblies (AMRfinder)\n",
    "\n",
    "amrfinder = pl.read_csv(\"AMRfinder/AMRfinder_only_carbapenemase.tsv\",\n",
    "                        separator=\"\\t\",)\n",
    "\n",
    "amrfinder = amrfinder.drop([\"Protein identifier\", \"Strand\",\n",
    "                            \"Contig id\", \"Scope\", \"Element type\",\n",
    "                            \"Start\", \"Element subtype\",\"HMM description\",\n",
    "                            \"Stop\",\"HMM id\",\"Accession of closest sequence\",\n",
    "                            \"Alignment length\",\"% Coverage of reference sequence\",\n",
    "                            \"Reference sequence length\",\"Target length\",\"Method\",\n",
    "                            \"% Identity to reference sequence\",\"Name of closest sequence\",\n",
    "                            \"Sequence name\",\"Class\",\"Subclass\"])\n",
    "\n",
    "amrfinder = amrfinder.rename({\"Name\": \"sample\"})\n",
    "amrfinder = amrfinder.rename({\"Gene symbol\": \"genID\"})\n",
    "\n",
    "display(f\"ResFinder nrows count: {resfinder.shape[0]}\")\n",
    "print(resfinder.head(4))\n",
    "\n",
    "display(f\"AMRfinder nrows count: {amrfinder.shape[0]}\")\n",
    "print(amrfinder.head(4))\n",
    "\n",
    "resfinder_genID = (resfinder[\"genID\"].unique()).to_list()\n",
    "amrfinder_genID = (amrfinder[\"genID\"].unique()).to_list()\n",
    "\n",
    "display(f\"Unique genes in ResFinder: {len(resfinder_genID)}\")\n",
    "display(resfinder_genID)\n",
    "display(f\"Unique genes in AMRfinder: {len(amrfinder_genID)}\")\n",
    "display(amrfinder_genID)\n",
    "\n",
    "genID = list(set(resfinder_genID + amrfinder_genID))\n",
    "display(f\"Unique genes in both ResFinder and AMRfinder: {len(genID)}\")\n",
    "display(genID)\n",
    "\n",
    "samples = list(set(resfinder[\"sample\"].unique()))\n",
    "display(samples)"
   ]
  },
  {
   "cell_type": "code",
   "execution_count": 96,
   "metadata": {},
   "outputs": [
    {
     "name": "stdout",
     "output_type": "stream",
     "text": [
      "(276, 2)\n",
      "shape: (2, 2)\n",
      "┌─────────────┬───────────┐\n",
      "│ sample      ┆ genID     │\n",
      "│ ---         ┆ ---       │\n",
      "│ str         ┆ str       │\n",
      "╞═════════════╪═══════════╡\n",
      "│ VA1788_2021 ┆ blaSHV-11 │\n",
      "│ VA1788_2021 ┆ blaACT-6  │\n",
      "└─────────────┴───────────┘\n"
     ]
    }
   ],
   "source": [
    "genIDx12 = genID * 12\n",
    "\n",
    "empty_list = [None] * len(genIDx12)\n",
    "samplesx23 = [sample for sample in samples for _ in range(23)]\n",
    "\n",
    "carb = pl.DataFrame(\n",
    "    {\n",
    "        \"sample\":samplesx23,\n",
    "        \"genID\":genIDx12\n",
    "    }\n",
    ")\n",
    "\n",
    "print(carb.shape)\n",
    "print(carb.head(2))\n",
    "\n",
    "pl.DataFrame.write_csv(carb, \"CP_CRE.tsv\",\n",
    "             separator=\"\\t\")"
   ]
  },
  {
   "cell_type": "code",
   "execution_count": 97,
   "metadata": {},
   "outputs": [],
   "source": [
    "pl.DataFrame.write_csv(resfinder, \"ResFinder_carbapem_occurrences.tsv\",\n",
    "             separator=\"\\t\")\n",
    "pl.DataFrame.write_csv(amrfinder, \"AMRfinder_carbapem_occurrences.tsv\",\n",
    "             separator=\"\\t\")"
   ]
  },
  {
   "cell_type": "markdown",
   "metadata": {},
   "source": [
    "Tengo un dataframe de 276 filas llamado carb que tiene todas las muestras y todos los genes y es de la forma:\n",
    "\n",
    "|sample|genID|\n",
    "|---|---|\n",
    "|VA1046_2020|blaSHV-11|\n",
    "|---|---|\n",
    "\n",
    "necesito hacer una nueva columna en carb llamada fastq_reads que tenga como valores un YES o un NO dependiendo si el sample junto al genID se encuentran en otro dataframe llamado resfinder que tiene 40 filas y tiene la forma:\n",
    "\n",
    "|genID|sample|\n",
    "|---|---|\n",
    "|blaSHV-2a|VA1184_2021|\n",
    "|---|---|\n",
    "\n",
    "dame el codigo para hacer esto con polars"
   ]
  },
  {
   "cell_type": "code",
   "execution_count": 93,
   "metadata": {},
   "outputs": [
    {
     "ename": "AttributeError",
     "evalue": "'DataFrame' object has no attribute 'with_column_renamed'",
     "output_type": "error",
     "traceback": [
      "\u001b[0;31m---------------------------------------------------------------------------\u001b[0m",
      "\u001b[0;31mAttributeError\u001b[0m                            Traceback (most recent call last)",
      "Cell \u001b[0;32mIn[93], line 1\u001b[0m\n\u001b[0;32m----> 1\u001b[0m resfinder \u001b[38;5;241m=\u001b[39m \u001b[43mresfinder\u001b[49m\u001b[38;5;241;43m.\u001b[39;49m\u001b[43mwith_column_renamed\u001b[49m(\u001b[38;5;124m\"\u001b[39m\u001b[38;5;124mgenID\u001b[39m\u001b[38;5;124m\"\u001b[39m, \u001b[38;5;124m\"\u001b[39m\u001b[38;5;124mgenID_res\u001b[39m\u001b[38;5;124m\"\u001b[39m)\u001b[38;5;241m.\u001b[39mwith_column_renamed(\u001b[38;5;124m\"\u001b[39m\u001b[38;5;124msample\u001b[39m\u001b[38;5;124m\"\u001b[39m, \u001b[38;5;124m\"\u001b[39m\u001b[38;5;124msample_res\u001b[39m\u001b[38;5;124m\"\u001b[39m)\n\u001b[1;32m      3\u001b[0m merged \u001b[38;5;241m=\u001b[39m carb\u001b[38;5;241m.\u001b[39mjoin(resfinder, on\u001b[38;5;241m=\u001b[39m[\u001b[38;5;124m'\u001b[39m\u001b[38;5;124msample\u001b[39m\u001b[38;5;124m'\u001b[39m, \u001b[38;5;124m'\u001b[39m\u001b[38;5;124mgenID\u001b[39m\u001b[38;5;124m'\u001b[39m], how\u001b[38;5;241m=\u001b[39m\u001b[38;5;124m'\u001b[39m\u001b[38;5;124mleft\u001b[39m\u001b[38;5;124m'\u001b[39m)\n\u001b[1;32m      5\u001b[0m merged \u001b[38;5;241m=\u001b[39m merged\u001b[38;5;241m.\u001b[39mwith_column(pl\u001b[38;5;241m.\u001b[39mwhen(merged[\u001b[38;5;124m'\u001b[39m\u001b[38;5;124mgenID_res\u001b[39m\u001b[38;5;124m'\u001b[39m]\u001b[38;5;241m.\u001b[39mis_null() \u001b[38;5;241m&\u001b[39m merged[\u001b[38;5;124m'\u001b[39m\u001b[38;5;124msample_res\u001b[39m\u001b[38;5;124m'\u001b[39m]\u001b[38;5;241m.\u001b[39mis_null())\u001b[38;5;241m.\u001b[39mthen(\u001b[38;5;124m'\u001b[39m\u001b[38;5;124mNO\u001b[39m\u001b[38;5;124m'\u001b[39m)\u001b[38;5;241m.\u001b[39motherwise(\u001b[38;5;124m'\u001b[39m\u001b[38;5;124mYES\u001b[39m\u001b[38;5;124m'\u001b[39m)\u001b[38;5;241m.\u001b[39malias(\u001b[38;5;124m'\u001b[39m\u001b[38;5;124mfastq_reads\u001b[39m\u001b[38;5;124m'\u001b[39m))\n",
      "\u001b[0;31mAttributeError\u001b[0m: 'DataFrame' object has no attribute 'with_column_renamed'"
     ]
    }
   ],
   "source": [
    "resfinder = resfinder.with_column_renamed(\"genID\", \"genID_res\").with_column_renamed(\"sample\", \"sample_res\")\n",
    "\n",
    "merged = carb.join(resfinder, on=['sample', 'genID'], how='left')\n",
    "\n",
    "merged = merged.with_column(pl.when(merged['genID_res'].is_null() & merged['sample_res'].is_null()).then('NO').otherwise('YES').alias('fastq_reads'))\n",
    "\n",
    "merged = merged.drop(['genID_res', 'sample_res'])\n",
    "\n",
    "display(merged.head())"
   ]
  },
  {
   "cell_type": "code",
   "execution_count": null,
   "metadata": {},
   "outputs": [],
   "source": []
  },
  {
   "cell_type": "code",
   "execution_count": null,
   "metadata": {},
   "outputs": [],
   "source": []
  },
  {
   "cell_type": "code",
   "execution_count": null,
   "metadata": {},
   "outputs": [],
   "source": []
  },
  {
   "cell_type": "code",
   "execution_count": null,
   "metadata": {},
   "outputs": [],
   "source": []
  },
  {
   "cell_type": "code",
   "execution_count": null,
   "metadata": {},
   "outputs": [],
   "source": [
    "['VA1788_2021',\n",
    " 'VA1046_2020',\n",
    " 'VA1184_2021',\n",
    " 'VA2464_2020',\n",
    " 'VA61_2022',\n",
    " 'VA1565_2021',\n",
    " 'VA2588_2020',\n",
    " 'VA585_2022',\n",
    " 'VA692_2022',\n",
    " 'VA418_2022',\n",
    " 'VA1101_2021',\n",
    " 'VA2067_2020']"
   ]
  },
  {
   "cell_type": "code",
   "execution_count": null,
   "metadata": {},
   "outputs": [],
   "source": [
    "CARB_occurrences = pl.DataFrame(\n",
    "    {\n",
    "        \"samples\":[\n",
    "            'VA1788_2021_fastq',\n",
    "            'VA1046_2020_fastq',\n",
    "            'VA1184_2021_fastq',\n",
    "            'VA2464_2020_fastq',\n",
    "            'VA61_2022_fastq',\n",
    "            'VA1565_2021_fastq',\n",
    "            'VA2588_2020_fastq',\n",
    "            'VA585_2022_fastq',\n",
    "            'VA692_2022_fastq',\n",
    "            'VA418_2022_fastq',\n",
    "            'VA1101_2021_fastq',\n",
    "            'VA2067_2020_fastq',\n",
    "\n",
    "            'VA1788_2021_illumina',\n",
    "            'VA1046_2020_illumina',\n",
    "            'VA1184_2021_illumina',\n",
    "            'VA2464_2020_illumina',\n",
    "            'VA61_2022_illumina',\n",
    "            'VA1565_2021_illumina',\n",
    "            'VA2588_2020_illumina',\n",
    "            'VA585_2022_illumina',\n",
    "            'VA692_2022_illumina',\n",
    "            'VA418_2022_illumina',\n",
    "            'VA1101_2021_illumina',\n",
    "            'VA2067_2020_illumina'\n",
    "        ],\n",
    "        \n",
    "        \"genID\":genIDx12\n",
    "    }\n",
    ")"
   ]
  }
 ],
 "metadata": {
  "kernelspec": {
   "display_name": "ISP",
   "language": "python",
   "name": "python3"
  },
  "language_info": {
   "codemirror_mode": {
    "name": "ipython",
    "version": 3
   },
   "file_extension": ".py",
   "mimetype": "text/x-python",
   "name": "python",
   "nbconvert_exporter": "python",
   "pygments_lexer": "ipython3",
   "version": "3.11.8"
  }
 },
 "nbformat": 4,
 "nbformat_minor": 2
}
