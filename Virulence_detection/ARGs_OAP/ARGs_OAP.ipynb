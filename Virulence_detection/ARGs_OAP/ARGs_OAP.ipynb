{
 "cells": [
  {
   "cell_type": "markdown",
   "metadata": {},
   "source": [
    "#### __ARGs-OAP__\n",
    "\n",
    "Online Analysis Pipeline for Antibiotic Resistance Genes Detection from Metagenomic Data Using an Integrated Structured ARG Database \n",
    "\n",
    "* __Github repo__\n",
    "\n",
    "https://github.com/biofuture/Ublastx_stageone\n",
    "\n",
    "https://github.com/xinehc/args_oap \n",
    "\n",
    "* __Singularity container__\n",
    "\n",
    "https://ndownloader.figshare.com/files/25953791\n",
    "\n",
    "__Notas:__\n",
    "\n",
    "- Al parecer el programa no reconoce los enlaces simbolicos ni el almacenamiento del disco grupal (quizas es el contenedor). Hay que probar ejecutar en el directorio /home "
   ]
  },
  {
   "cell_type": "code",
   "execution_count": 1,
   "metadata": {},
   "outputs": [],
   "source": [
    "import polars as pl\n",
    "\n",
    "import os\n",
    "import shutil\n",
    "\n",
    "DIR = \"/srv/storage/oceania@storage2.lille.grid5000.f/npilquinao/BEM-ISP/argsoap\""
   ]
  },
  {
   "cell_type": "code",
   "execution_count": 4,
   "metadata": {},
   "outputs": [
    {
     "name": "stdout",
     "output_type": "stream",
     "text": [
      "usage: args_oap stage_one [-h] -i DIR -o DIR [-t INT] [-f EXT] [--e1 FLOAT]\n",
      "                          [--e2 FLOAT] [--id FLOAT] [--qcov FLOAT] [--skip]\n",
      "                          [--keep] [--database FILE]\n",
      "\n",
      "options:\n",
      "  -h, --help            show this help message and exit\n",
      "\n",
      "required arguments:\n",
      "  -i DIR, --indir DIR   Input folder.\n",
      "  -o DIR, --outdir DIR  Output folder.\n",
      "\n",
      "optional arguments:\n",
      "  -t INT, --thread INT  Number of threads. [8]\n",
      "  -f EXT, --format EXT  File format in input folder (--indir), gzipped (*.gz)\n",
      "                        optional. [fq]\n",
      "  --e1 FLOAT            E-value cutoff for GreenGenes. [1e-10]\n",
      "  --e2 FLOAT            E-value cutoff for Essential Single Copy Marker Genes.\n",
      "                        [3]\n",
      "  --id FLOAT            Identity cutoff (in percentage) for Essential Single\n",
      "                        Copy Marker Genes. [45]\n",
      "  --qcov FLOAT          Query cover cutoff (in percentage) for Essential\n",
      "                        Single Copy Marker Genes. [0]\n",
      "  --skip                Skip cell number and 16S copy number estimation.\n",
      "  --keep                Keep all temporary files (*.tmp) in output folder\n",
      "                        (--outdir).\n",
      "\n",
      "database arguments:\n",
      "  --database FILE       Customized database (indexed) other than SARG. [None]\n"
     ]
    }
   ],
   "source": [
    "!args_oap stage_one -h"
   ]
  },
  {
   "cell_type": "code",
   "execution_count": 1,
   "metadata": {},
   "outputs": [
    {
     "name": "stdout",
     "output_type": "stream",
     "text": [
      "usage: args_oap stage_two [-h] -i DIR [-t INT] [-o DIR] [--e FLOAT]\n",
      "                          [--id FLOAT] [--qcov FLOAT] [--length INT]\n",
      "                          [--blastout FILE] [--database FILE]\n",
      "                          [--structure1 FILE] [--structure2 FILE]\n",
      "                          [--structure3 FILE]\n",
      "\n",
      "options:\n",
      "  -h, --help            show this help message and exit\n",
      "\n",
      "required arguments:\n",
      "  -i DIR, --indir DIR   Input folder. Should be the output folder of stage_one\n",
      "                        (containing <metadata.txt> and <extracted.fa>).\n",
      "\n",
      "optional arguments:\n",
      "  -t INT, --thread INT  Number of threads. [8]\n",
      "  -o DIR, --outdir DIR  Output folder, if not given then same as input folder\n",
      "                        (--indir). [None]\n",
      "  --e FLOAT             E-value cutoff for target sequences. [1e-7]\n",
      "  --id FLOAT            Identity cutoff (in percentage) for target sequences.\n",
      "                        [80]\n",
      "  --qcov FLOAT          Query cover cutoff (in percentage) for target\n",
      "                        sequences. [75]\n",
      "  --length INT          Aligned length cutoff (in amino acid) for target\n",
      "                        sequences. [25]\n",
      "  --blastout FILE       BLAST output (-outfmt \"6 qseqid sseqid pident length\n",
      "                        qlen slen evalue bitscore\"), if given then skip BLAST.\n",
      "                        [None]\n",
      "\n",
      "database arguments:\n",
      "  --database FILE       Customized database (indexed) other than SARG. [None]\n",
      "  --structure1 FILE     Customized structure file (weight 1, single-\n",
      "                        component). [None]\n",
      "  --structure2 FILE     Customized structure file (weight 1/2, two-component).\n",
      "                        [None]\n",
      "  --structure3 FILE     Customized structure file (weight 1/3, multi-\n",
      "                        component). [None]\n"
     ]
    }
   ],
   "source": [
    "!args_oap stage_two -h"
   ]
  },
  {
   "cell_type": "code",
   "execution_count": 6,
   "metadata": {},
   "outputs": [
    {
     "name": "stderr",
     "output_type": "stream",
     "text": [
      "[2024-05-16 06:20:31] INFO: Building databases ...\n",
      "[2024-05-16 06:20:37] INFO: Processing </home/npilquinao/BEM-ISP/group_storage/argsoap/samples/VA1046_1.fq.gz> (1/24) ...\n",
      "[2024-05-16 06:28:17] INFO: Processing </home/npilquinao/BEM-ISP/group_storage/argsoap/samples/VA1046_2.fq.gz> (2/24) ...\n"
     ]
    },
    {
     "name": "stderr",
     "output_type": "stream",
     "text": [
      "[2024-05-16 06:35:56] INFO: Processing </home/npilquinao/BEM-ISP/group_storage/argsoap/samples/VA1101_1.fq.gz> (3/24) ...\n"
     ]
    }
   ],
   "source": [
    "%%bash\n",
    "\n",
    "args_oap stage_one \\\n",
    "    --indir /home/npilquinao/BEM-ISP/group_storage/argsoap/samples\\\n",
    "    --outdir /home/npilquinao/BEM-ISP/group_storage/argsoap/stage_one\\\n",
    "    --thread 2\\\n",
    "    --format fq.gz"
   ]
  },
  {
   "cell_type": "code",
   "execution_count": null,
   "metadata": {},
   "outputs": [],
   "source": []
  },
  {
   "cell_type": "code",
   "execution_count": null,
   "metadata": {},
   "outputs": [],
   "source": []
  },
  {
   "cell_type": "code",
   "execution_count": null,
   "metadata": {},
   "outputs": [],
   "source": []
  },
  {
   "cell_type": "markdown",
   "metadata": {},
   "source": [
    "### __MALO NO USAR__"
   ]
  },
  {
   "cell_type": "markdown",
   "metadata": {},
   "source": [
    "__Get container__\n",
    "\n",
    "```bash\n",
    "wget -O $workpath/argoapv2.5.sif https://ndownloader.figshare.com/files/25953791"
   ]
  },
  {
   "cell_type": "markdown",
   "metadata": {},
   "source": [
    "##### __Metadata & data format__\n",
    "\n",
    "__Samples (.fq format)__\n",
    "```bash\n",
    "/home/npilquinao/BEM-ISP/group_storage/argsoap/\n",
    "```\n",
    "__Metadata file (.txt)__\n",
    "```bash\n",
    "/home/npilquinao/BEM-ISP/group_storage/argsoap/metadata.txt"
   ]
  },
  {
   "cell_type": "code",
   "execution_count": 3,
   "metadata": {},
   "outputs": [],
   "source": [
    "metadata = pl.DataFrame({\n",
    "    'SampleID': list(range(1, 13)),\n",
    "    'Name': ['VA61','VA418','VA585','VA692','VA1046','VA1101','VA1184','VA1565','VA1788','VA2067','VA2464','VA2588'],\n",
    "    'Category': ['2_carbapenemase' for _ in range(12)]\n",
    "})\n",
    "metadata.write_csv(f\"{workpath}/metadata.tsv\", separator='\\t')"
   ]
  },
  {
   "cell_type": "code",
   "execution_count": 4,
   "metadata": {},
   "outputs": [],
   "source": [
    "for dirpath, dirnames, filenames in os.walk(samples):\n",
    "    for filename in filenames:\n",
    "        if filename.endswith('.fastq.gz'):\n",
    "            parent_dir_name = os.path.basename(dirpath)\n",
    "            new_filename_base = parent_dir_name.split('_')[0]\n",
    "\n",
    "            if '_R1' in filename:\n",
    "                new_filename = new_filename_base + '_1.fq.gz'\n",
    "            elif '_R2' in filename:\n",
    "                new_filename = new_filename_base + '_2.fq.gz'\n",
    "            else:\n",
    "                continue\n",
    "\n",
    "            shutil.copy(os.path.join(dirpath, filename), os.path.join(workpath, \"argsoap_samples\", new_filename))"
   ]
  },
  {
   "cell_type": "markdown",
   "metadata": {},
   "source": [
    "##### __ARGs-OAP__\n",
    "```bash\n",
    "* The inputdir follow by the -B is the directory you put your fastq files\n",
    "* -i Input files directory, required\n",
    "* -m meta data file, required\n",
    "* -o Output files directory, default current directory\n",
    "* -z whether the fq files were .gz format, default(none)\n",
    "* -n number of threads used, default 1"
   ]
  },
  {
   "cell_type": "code",
   "execution_count": 5,
   "metadata": {},
   "outputs": [
    {
     "name": "stderr",
     "output_type": "stream",
     "text": [
      "INFO:    Converting SIF file to temporary sandbox...\n"
     ]
    },
    {
     "name": "stderr",
     "output_type": "stream",
     "text": [
      "perl: warning: Setting locale failed.\n",
      "perl: warning: Please check that your locale settings:\n",
      "\tLANGUAGE = \"en_US:en\",\n",
      "\tLC_ALL = \"en_US.UTF-8\",\n",
      "\tLANG = \"en_US.UTF-8\"\n",
      "    are supported and installed on your system.\n",
      "perl: warning: Falling back to the standard locale (\"C\").\n",
      "No such file or directory\n",
      "INFO:    Cleaning up image...\n"
     ]
    },
    {
     "ename": "CalledProcessError",
     "evalue": "Command 'b'\\ncd /srv/storage/oceania@storage2.lille.grid5000.f/npilquinao/BEM-ISP/argsoap\\n\\nsingularity exec \\\\\\n    -B /srv/storage/oceania@storage2.lille.grid5000.f/npilquinao/BEM-ISP/argsoap \\\\\\n    argoapv2.5.sif /home/argsoapv2.5/argoap_version2.5 \\\\\\n    -i argsoap_samples \\\\\\n    -m metadata.txt \\\\\\n    -o output \\\\\\n    -z \\\\\\n    -n 60\\n'' returned non-zero exit status 2.",
     "output_type": "error",
     "traceback": [
      "\u001b[0;31m---------------------------------------------------------------------------\u001b[0m",
      "\u001b[0;31mCalledProcessError\u001b[0m                        Traceback (most recent call last)",
      "Cell \u001b[0;32mIn[5], line 1\u001b[0m\n\u001b[0;32m----> 1\u001b[0m \u001b[43mget_ipython\u001b[49m\u001b[43m(\u001b[49m\u001b[43m)\u001b[49m\u001b[38;5;241;43m.\u001b[39;49m\u001b[43mrun_cell_magic\u001b[49m\u001b[43m(\u001b[49m\u001b[38;5;124;43m'\u001b[39;49m\u001b[38;5;124;43mbash\u001b[39;49m\u001b[38;5;124;43m'\u001b[39;49m\u001b[43m,\u001b[49m\u001b[43m \u001b[49m\u001b[38;5;124;43m'\u001b[39;49m\u001b[38;5;124;43m'\u001b[39;49m\u001b[43m,\u001b[49m\u001b[43m \u001b[49m\u001b[38;5;124;43m'\u001b[39;49m\u001b[38;5;130;43;01m\\n\u001b[39;49;00m\u001b[38;5;124;43mcd /srv/storage/oceania@storage2.lille.grid5000.f/npilquinao/BEM-ISP/argsoap\u001b[39;49m\u001b[38;5;130;43;01m\\n\u001b[39;49;00m\u001b[38;5;130;43;01m\\n\u001b[39;49;00m\u001b[38;5;124;43msingularity exec \u001b[39;49m\u001b[38;5;130;43;01m\\\\\u001b[39;49;00m\u001b[38;5;130;43;01m\\n\u001b[39;49;00m\u001b[38;5;124;43m    -B /srv/storage/oceania@storage2.lille.grid5000.f/npilquinao/BEM-ISP/argsoap \u001b[39;49m\u001b[38;5;130;43;01m\\\\\u001b[39;49;00m\u001b[38;5;130;43;01m\\n\u001b[39;49;00m\u001b[38;5;124;43m    argoapv2.5.sif /home/argsoapv2.5/argoap_version2.5 \u001b[39;49m\u001b[38;5;130;43;01m\\\\\u001b[39;49;00m\u001b[38;5;130;43;01m\\n\u001b[39;49;00m\u001b[38;5;124;43m    -i argsoap_samples \u001b[39;49m\u001b[38;5;130;43;01m\\\\\u001b[39;49;00m\u001b[38;5;130;43;01m\\n\u001b[39;49;00m\u001b[38;5;124;43m    -m metadata.txt \u001b[39;49m\u001b[38;5;130;43;01m\\\\\u001b[39;49;00m\u001b[38;5;130;43;01m\\n\u001b[39;49;00m\u001b[38;5;124;43m    -o output \u001b[39;49m\u001b[38;5;130;43;01m\\\\\u001b[39;49;00m\u001b[38;5;130;43;01m\\n\u001b[39;49;00m\u001b[38;5;124;43m    -z \u001b[39;49m\u001b[38;5;130;43;01m\\\\\u001b[39;49;00m\u001b[38;5;130;43;01m\\n\u001b[39;49;00m\u001b[38;5;124;43m    -n 60\u001b[39;49m\u001b[38;5;130;43;01m\\n\u001b[39;49;00m\u001b[38;5;124;43m'\u001b[39;49m\u001b[43m)\u001b[49m\n",
      "File \u001b[0;32m~/miniconda3/envs/ISP/lib/python3.11/site-packages/IPython/core/interactiveshell.py:2541\u001b[0m, in \u001b[0;36mInteractiveShell.run_cell_magic\u001b[0;34m(self, magic_name, line, cell)\u001b[0m\n\u001b[1;32m   2539\u001b[0m \u001b[38;5;28;01mwith\u001b[39;00m \u001b[38;5;28mself\u001b[39m\u001b[38;5;241m.\u001b[39mbuiltin_trap:\n\u001b[1;32m   2540\u001b[0m     args \u001b[38;5;241m=\u001b[39m (magic_arg_s, cell)\n\u001b[0;32m-> 2541\u001b[0m     result \u001b[38;5;241m=\u001b[39m \u001b[43mfn\u001b[49m\u001b[43m(\u001b[49m\u001b[38;5;241;43m*\u001b[39;49m\u001b[43margs\u001b[49m\u001b[43m,\u001b[49m\u001b[43m \u001b[49m\u001b[38;5;241;43m*\u001b[39;49m\u001b[38;5;241;43m*\u001b[39;49m\u001b[43mkwargs\u001b[49m\u001b[43m)\u001b[49m\n\u001b[1;32m   2543\u001b[0m \u001b[38;5;66;03m# The code below prevents the output from being displayed\u001b[39;00m\n\u001b[1;32m   2544\u001b[0m \u001b[38;5;66;03m# when using magics with decorator @output_can_be_silenced\u001b[39;00m\n\u001b[1;32m   2545\u001b[0m \u001b[38;5;66;03m# when the last Python token in the expression is a ';'.\u001b[39;00m\n\u001b[1;32m   2546\u001b[0m \u001b[38;5;28;01mif\u001b[39;00m \u001b[38;5;28mgetattr\u001b[39m(fn, magic\u001b[38;5;241m.\u001b[39mMAGIC_OUTPUT_CAN_BE_SILENCED, \u001b[38;5;28;01mFalse\u001b[39;00m):\n",
      "File \u001b[0;32m~/miniconda3/envs/ISP/lib/python3.11/site-packages/IPython/core/magics/script.py:155\u001b[0m, in \u001b[0;36mScriptMagics._make_script_magic.<locals>.named_script_magic\u001b[0;34m(line, cell)\u001b[0m\n\u001b[1;32m    153\u001b[0m \u001b[38;5;28;01melse\u001b[39;00m:\n\u001b[1;32m    154\u001b[0m     line \u001b[38;5;241m=\u001b[39m script\n\u001b[0;32m--> 155\u001b[0m \u001b[38;5;28;01mreturn\u001b[39;00m \u001b[38;5;28;43mself\u001b[39;49m\u001b[38;5;241;43m.\u001b[39;49m\u001b[43mshebang\u001b[49m\u001b[43m(\u001b[49m\u001b[43mline\u001b[49m\u001b[43m,\u001b[49m\u001b[43m \u001b[49m\u001b[43mcell\u001b[49m\u001b[43m)\u001b[49m\n",
      "File \u001b[0;32m~/miniconda3/envs/ISP/lib/python3.11/site-packages/IPython/core/magics/script.py:315\u001b[0m, in \u001b[0;36mScriptMagics.shebang\u001b[0;34m(self, line, cell)\u001b[0m\n\u001b[1;32m    310\u001b[0m \u001b[38;5;28;01mif\u001b[39;00m args\u001b[38;5;241m.\u001b[39mraise_error \u001b[38;5;129;01mand\u001b[39;00m p\u001b[38;5;241m.\u001b[39mreturncode \u001b[38;5;241m!=\u001b[39m \u001b[38;5;241m0\u001b[39m:\n\u001b[1;32m    311\u001b[0m     \u001b[38;5;66;03m# If we get here and p.returncode is still None, we must have\u001b[39;00m\n\u001b[1;32m    312\u001b[0m     \u001b[38;5;66;03m# killed it but not yet seen its return code. We don't wait for it,\u001b[39;00m\n\u001b[1;32m    313\u001b[0m     \u001b[38;5;66;03m# in case it's stuck in uninterruptible sleep. -9 = SIGKILL\u001b[39;00m\n\u001b[1;32m    314\u001b[0m     rc \u001b[38;5;241m=\u001b[39m p\u001b[38;5;241m.\u001b[39mreturncode \u001b[38;5;129;01mor\u001b[39;00m \u001b[38;5;241m-\u001b[39m\u001b[38;5;241m9\u001b[39m\n\u001b[0;32m--> 315\u001b[0m     \u001b[38;5;28;01mraise\u001b[39;00m CalledProcessError(rc, cell)\n",
      "\u001b[0;31mCalledProcessError\u001b[0m: Command 'b'\\ncd /srv/storage/oceania@storage2.lille.grid5000.f/npilquinao/BEM-ISP/argsoap\\n\\nsingularity exec \\\\\\n    -B /srv/storage/oceania@storage2.lille.grid5000.f/npilquinao/BEM-ISP/argsoap \\\\\\n    argoapv2.5.sif /home/argsoapv2.5/argoap_version2.5 \\\\\\n    -i argsoap_samples \\\\\\n    -m metadata.txt \\\\\\n    -o output \\\\\\n    -z \\\\\\n    -n 60\\n'' returned non-zero exit status 2."
     ]
    }
   ],
   "source": [
    "%%bash\n",
    "\n",
    "cd /srv/storage/oceania@storage2.lille.grid5000.f/npilquinao/BEM-ISP/argsoap\n",
    "\n",
    "singularity exec \\\n",
    "    -B /srv/storage/oceania@storage2.lille.grid5000.f/npilquinao/BEM-ISP/argsoap \\\n",
    "    argoapv2.5.sif /home/argsoapv2.5/argoap_version2.5 \\\n",
    "    -i argsoap_samples \\\n",
    "    -m metadata.txt \\\n",
    "    -o output \\\n",
    "    -z \\\n",
    "    -n 60"
   ]
  }
 ],
 "metadata": {
  "kernelspec": {
   "display_name": "ISP",
   "language": "python",
   "name": "python3"
  },
  "language_info": {
   "codemirror_mode": {
    "name": "ipython",
    "version": 3
   },
   "file_extension": ".py",
   "mimetype": "text/x-python",
   "name": "python",
   "nbconvert_exporter": "python",
   "pygments_lexer": "ipython3",
   "version": "3.11.8"
  }
 },
 "nbformat": 4,
 "nbformat_minor": 2
}
