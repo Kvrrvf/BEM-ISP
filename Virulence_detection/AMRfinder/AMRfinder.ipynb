{
 "cells": [
  {
   "cell_type": "markdown",
   "metadata": {},
   "source": [
    "### __NCBI Antimicrobial Resistance Gene Finder (AMRFinderPlus)__\n",
    "\n",
    "Find AMR genes in genome assemblies\n",
    "\n",
    "__Docs:__ https://github.com/ncbi/amr/wiki"
   ]
  },
  {
   "cell_type": "markdown",
   "metadata": {},
   "source": [
    "#### __Libraries & requeriments__"
   ]
  },
  {
   "cell_type": "markdown",
   "metadata": {},
   "source": [
    "```bash\n",
    "conda install -c conda-forge -c bioconda -n amrfinder ncbi-amrfinderplus -y\n",
    "```"
   ]
  },
  {
   "cell_type": "code",
   "execution_count": 1,
   "metadata": {},
   "outputs": [],
   "source": [
    "import polars as pl\n",
    "\n",
    "R = \"/home/npilquinao/BEM-ISP/group_storage/amrfinder/results\""
   ]
  },
  {
   "cell_type": "markdown",
   "metadata": {},
   "source": [
    "__Get database__"
   ]
  },
  {
   "cell_type": "code",
   "execution_count": 4,
   "metadata": {},
   "outputs": [
    {
     "name": "stdout",
     "output_type": "stream",
     "text": [
      "Running: amrfinder -u\n",
      "Software directory: '/home/npilquinao/miniconda3/envs/ISP/bin/'\n",
      "Software version: 3.12.8\n",
      "Running: /home/npilquinao/miniconda3/envs/ISP/bin/amrfinder_update -d /home/npilquinao/miniconda3/envs/ISP/share/amrfinderplus/data\n",
      "Looking up the published databases at https://ftp.ncbi.nlm.nih.gov/pathogen/Antimicrobial_resistance/AMRFinderPlus/database/\n",
      "Looking for the target directory /home/npilquinao/miniconda3/envs/ISP/share/amrfinderplus/data/2024-01-31.1/\n",
      "Downloading AMRFinder database version 2024-01-31.1 into '/home/npilquinao/miniconda3/envs/ISP/share/amrfinderplus/data/2024-01-31.1/'\n",
      "Running: /home/npilquinao/miniconda3/envs/ISP/bin/amrfinder_index /home/npilquinao/miniconda3/envs/ISP/share/amrfinderplus/data/2024-01-31.1/\n",
      "Indexing\n",
      "Database directory: '/home/npilquinao/miniconda3/envs/ISP/share/amrfinderplus/data/2024-01-31.1'\n",
      "Database version: 2024-01-31.1\n"
     ]
    }
   ],
   "source": [
    "!amrfinder -u"
   ]
  },
  {
   "cell_type": "markdown",
   "metadata": {},
   "source": [
    "#### __Tool testing__"
   ]
  },
  {
   "cell_type": "code",
   "execution_count": 14,
   "metadata": {},
   "outputs": [
    {
     "name": "stderr",
     "output_type": "stream",
     "text": [
      "Running: amrfinder --nucleotide /home/npilquinao/BEM-ISP/group_storage/npilquinao/ISP/2carbapenemase/assembly/VA61_2022/assembly.fasta --name VA61_2022 --plus --threads 40 -o /home/npilquinao/BEM-ISP/AMRfinder/VA61_2022_amrfinder.tsv\n",
      "Software directory: '/home/npilquinao/miniconda3/envs/ISP/bin/'\n",
      "Software version: 3.12.8\n",
      "Database directory: '/home/npilquinao/miniconda3/envs/ISP/share/amrfinderplus/data/2024-01-31.1'\n",
      "Database version: 2024-01-31.1\n",
      "AMRFinder translated nucleotide search\n",
      "  - include -O ORGANISM, --organism ORGANISM option to add mutation searches and suppress common proteins\n",
      "Running tblastn\n",
      "Making report\n",
      "AMRFinder took 4 seconds to complete\n"
     ]
    }
   ],
   "source": [
    "%%bash\n",
    "\n",
    "amrfinder\\\n",
    "    --nucleotide /home/npilquinao/BEM-ISP/group_storage/npilquinao/ISP/carbapenemase/assembly/VA61_2022/assembly.fasta\\\n",
    "    --name VA61_2022\\\n",
    "    --plus\\\n",
    "    --threads 40\\\n",
    "    -o ~/BEM-ISP/AMRfinder/VA61_2022_amrfinder.tsv"
   ]
  },
  {
   "cell_type": "markdown",
   "metadata": {},
   "source": [
    "__Output format overview__"
   ]
  },
  {
   "cell_type": "code",
   "execution_count": 5,
   "metadata": {},
   "outputs": [
    {
     "name": "stdout",
     "output_type": "stream",
     "text": [
      "Table dimensions: (40, 23)\n"
     ]
    },
    {
     "data": {
      "text/html": [
       "<div><style>\n",
       ".dataframe > thead > tr,\n",
       ".dataframe > tbody > tr {\n",
       "  text-align: right;\n",
       "  white-space: pre-wrap;\n",
       "}\n",
       "</style>\n",
       "<small>shape: (4, 23)</small><table border=\"1\" class=\"dataframe\"><thead><tr><th>Name</th><th>Protein identifier</th><th>Contig id</th><th>Start</th><th>Stop</th><th>Strand</th><th>Gene symbol</th><th>Sequence name</th><th>Scope</th><th>Element type</th><th>Element subtype</th><th>Class</th><th>Subclass</th><th>Method</th><th>Target length</th><th>Reference sequence length</th><th>% Coverage of reference sequence</th><th>% Identity to reference sequence</th><th>Alignment length</th><th>Accession of closest sequence</th><th>Name of closest sequence</th><th>HMM id</th><th>HMM description</th></tr><tr><td>str</td><td>str</td><td>i64</td><td>i64</td><td>i64</td><td>str</td><td>str</td><td>str</td><td>str</td><td>str</td><td>str</td><td>str</td><td>str</td><td>str</td><td>i64</td><td>i64</td><td>f64</td><td>f64</td><td>i64</td><td>str</td><td>str</td><td>str</td><td>str</td></tr></thead><tbody><tr><td>&quot;VA61_2022&quot;</td><td>&quot;NA&quot;</td><td>1</td><td>369761</td><td>370873</td><td>&quot;+&quot;</td><td>&quot;iroB&quot;</td><td>&quot;salmochelin bi…</td><td>&quot;plus&quot;</td><td>&quot;VIRULENCE&quot;</td><td>&quot;VIRULENCE&quot;</td><td>&quot;NA&quot;</td><td>&quot;NA&quot;</td><td>&quot;BLASTX&quot;</td><td>371</td><td>371</td><td>100.0</td><td>92.99</td><td>371</td><td>&quot;EOW04219.1&quot;</td><td>&quot;salmochelin bi…</td><td>&quot;NA&quot;</td><td>&quot;NA&quot;</td></tr><tr><td>&quot;VA61_2022&quot;</td><td>&quot;NA&quot;</td><td>1</td><td>371018</td><td>374662</td><td>&quot;+&quot;</td><td>&quot;iroC&quot;</td><td>&quot;salmochelin/en…</td><td>&quot;plus&quot;</td><td>&quot;VIRULENCE&quot;</td><td>&quot;VIRULENCE&quot;</td><td>&quot;NA&quot;</td><td>&quot;NA&quot;</td><td>&quot;BLASTX&quot;</td><td>1215</td><td>1219</td><td>99.75</td><td>90.62</td><td>1216</td><td>&quot;AUH19662.1&quot;</td><td>&quot;salmochelin/en…</td><td>&quot;NA&quot;</td><td>&quot;NA&quot;</td></tr><tr><td>&quot;VA61_2022&quot;</td><td>&quot;NA&quot;</td><td>1</td><td>377096</td><td>379267</td><td>&quot;-&quot;</td><td>&quot;iroN&quot;</td><td>&quot;siderophore sa…</td><td>&quot;plus&quot;</td><td>&quot;VIRULENCE&quot;</td><td>&quot;VIRULENCE&quot;</td><td>&quot;NA&quot;</td><td>&quot;NA&quot;</td><td>&quot;BLASTX&quot;</td><td>724</td><td>725</td><td>100.0</td><td>95.03</td><td>725</td><td>&quot;AAN76093.1&quot;</td><td>&quot;siderophore sa…</td><td>&quot;NA&quot;</td><td>&quot;NA&quot;</td></tr><tr><td>&quot;VA61_2022&quot;</td><td>&quot;NA&quot;</td><td>2</td><td>92428</td><td>93600</td><td>&quot;+&quot;</td><td>&quot;oqxA&quot;</td><td>&quot;multidrug effl…</td><td>&quot;core&quot;</td><td>&quot;AMR&quot;</td><td>&quot;AMR&quot;</td><td>&quot;PHENICOL/QUINO…</td><td>&quot;PHENICOL/QUINO…</td><td>&quot;BLASTX&quot;</td><td>391</td><td>391</td><td>100.0</td><td>91.3</td><td>391</td><td>&quot;WP_002914189.1…</td><td>&quot;multidrug effl…</td><td>&quot;NA&quot;</td><td>&quot;NA&quot;</td></tr></tbody></table></div>"
      ],
      "text/plain": [
       "shape: (4, 23)\n",
       "┌───────────┬─────────────┬───────────┬────────┬───┬────────────┬────────────┬────────┬────────────┐\n",
       "│ Name      ┆ Protein     ┆ Contig id ┆ Start  ┆ … ┆ Accession  ┆ Name of    ┆ HMM id ┆ HMM descri │\n",
       "│ ---       ┆ identifier  ┆ ---       ┆ ---    ┆   ┆ of closest ┆ closest    ┆ ---    ┆ ption      │\n",
       "│ str       ┆ ---         ┆ i64       ┆ i64    ┆   ┆ sequence   ┆ sequence   ┆ str    ┆ ---        │\n",
       "│           ┆ str         ┆           ┆        ┆   ┆ ---        ┆ ---        ┆        ┆ str        │\n",
       "│           ┆             ┆           ┆        ┆   ┆ str        ┆ str        ┆        ┆            │\n",
       "╞═══════════╪═════════════╪═══════════╪════════╪═══╪════════════╪════════════╪════════╪════════════╡\n",
       "│ VA61_2022 ┆ NA          ┆ 1         ┆ 369761 ┆ … ┆ EOW04219.1 ┆ salmocheli ┆ NA     ┆ NA         │\n",
       "│           ┆             ┆           ┆        ┆   ┆            ┆ n biosynth ┆        ┆            │\n",
       "│           ┆             ┆           ┆        ┆   ┆            ┆ esis       ┆        ┆            │\n",
       "│           ┆             ┆           ┆        ┆   ┆            ┆ C-glyco…   ┆        ┆            │\n",
       "│ VA61_2022 ┆ NA          ┆ 1         ┆ 371018 ┆ … ┆ AUH19662.1 ┆ salmocheli ┆ NA     ┆ NA         │\n",
       "│           ┆             ┆           ┆        ┆   ┆            ┆ n/enteroba ┆        ┆            │\n",
       "│           ┆             ┆           ┆        ┆   ┆            ┆ ctin       ┆        ┆            │\n",
       "│           ┆             ┆           ┆        ┆   ┆            ┆ export …   ┆        ┆            │\n",
       "│ VA61_2022 ┆ NA          ┆ 1         ┆ 377096 ┆ … ┆ AAN76093.1 ┆ siderophor ┆ NA     ┆ NA         │\n",
       "│           ┆             ┆           ┆        ┆   ┆            ┆ e salmoche ┆        ┆            │\n",
       "│           ┆             ┆           ┆        ┆   ┆            ┆ lin        ┆        ┆            │\n",
       "│           ┆             ┆           ┆        ┆   ┆            ┆ receptor…  ┆        ┆            │\n",
       "│ VA61_2022 ┆ NA          ┆ 2         ┆ 92428  ┆ … ┆ WP_0029141 ┆ multidrug  ┆ NA     ┆ NA         │\n",
       "│           ┆             ┆           ┆        ┆   ┆ 89.1       ┆ efflux RND ┆        ┆            │\n",
       "│           ┆             ┆           ┆        ┆   ┆            ┆ transporte ┆        ┆            │\n",
       "│           ┆             ┆           ┆        ┆   ┆            ┆ r…         ┆        ┆            │\n",
       "└───────────┴─────────────┴───────────┴────────┴───┴────────────┴────────────┴────────┴────────────┘"
      ]
     },
     "metadata": {},
     "output_type": "display_data"
    }
   ],
   "source": [
    "VA61_2022 = pl.read_csv(R + \"/VA61_2022_amrfinder.tsv\",\n",
    "                        separator=\"\\t\")\n",
    "print(f\"Table dimensions: {VA61_2022.shape}\")\n",
    "display(VA61_2022.head(4))\n",
    "\n",
    "#display(VA61_2022[\"Gene symbol\"].unique().to_list())"
   ]
  },
  {
   "cell_type": "markdown",
   "metadata": {},
   "source": [
    "__Filter by ISP-reported carbanepemases__\n",
    "\n",
    "- CP genes: KPC, VIM, NDM"
   ]
  },
  {
   "cell_type": "code",
   "execution_count": 8,
   "metadata": {},
   "outputs": [
    {
     "name": "stdout",
     "output_type": "stream",
     "text": [
      "ISP-reported proteins founded =  1\n"
     ]
    },
    {
     "data": {
      "text/html": [
       "<div><style>\n",
       ".dataframe > thead > tr,\n",
       ".dataframe > tbody > tr {\n",
       "  text-align: right;\n",
       "  white-space: pre-wrap;\n",
       "}\n",
       "</style>\n",
       "<small>shape: (1, 23)</small><table border=\"1\" class=\"dataframe\"><thead><tr><th>Name</th><th>Protein identifier</th><th>Contig id</th><th>Start</th><th>Stop</th><th>Strand</th><th>Gene symbol</th><th>Sequence name</th><th>Scope</th><th>Element type</th><th>Element subtype</th><th>Class</th><th>Subclass</th><th>Method</th><th>Target length</th><th>Reference sequence length</th><th>% Coverage of reference sequence</th><th>% Identity to reference sequence</th><th>Alignment length</th><th>Accession of closest sequence</th><th>Name of closest sequence</th><th>HMM id</th><th>HMM description</th></tr><tr><td>str</td><td>str</td><td>i64</td><td>i64</td><td>i64</td><td>str</td><td>str</td><td>str</td><td>str</td><td>str</td><td>str</td><td>str</td><td>str</td><td>str</td><td>i64</td><td>i64</td><td>f64</td><td>f64</td><td>i64</td><td>str</td><td>str</td><td>str</td><td>str</td></tr></thead><tbody><tr><td>&quot;VA61_2022&quot;</td><td>&quot;NA&quot;</td><td>25</td><td>19154</td><td>20032</td><td>&quot;-&quot;</td><td>&quot;blaKPC-2&quot;</td><td>&quot;carbapenem-hyd…</td><td>&quot;core&quot;</td><td>&quot;AMR&quot;</td><td>&quot;AMR&quot;</td><td>&quot;BETA-LACTAM&quot;</td><td>&quot;CARBAPENEM&quot;</td><td>&quot;ALLELEX&quot;</td><td>293</td><td>293</td><td>100.0</td><td>100.0</td><td>293</td><td>&quot;WP_004199234.1…</td><td>&quot;carbapenem-hyd…</td><td>&quot;NA&quot;</td><td>&quot;NA&quot;</td></tr></tbody></table></div>"
      ],
      "text/plain": [
       "shape: (1, 23)\n",
       "┌───────────┬─────────────┬───────────┬───────┬───┬─────────────┬────────────┬────────┬────────────┐\n",
       "│ Name      ┆ Protein     ┆ Contig id ┆ Start ┆ … ┆ Accession   ┆ Name of    ┆ HMM id ┆ HMM descri │\n",
       "│ ---       ┆ identifier  ┆ ---       ┆ ---   ┆   ┆ of closest  ┆ closest    ┆ ---    ┆ ption      │\n",
       "│ str       ┆ ---         ┆ i64       ┆ i64   ┆   ┆ sequence    ┆ sequence   ┆ str    ┆ ---        │\n",
       "│           ┆ str         ┆           ┆       ┆   ┆ ---         ┆ ---        ┆        ┆ str        │\n",
       "│           ┆             ┆           ┆       ┆   ┆ str         ┆ str        ┆        ┆            │\n",
       "╞═══════════╪═════════════╪═══════════╪═══════╪═══╪═════════════╪════════════╪════════╪════════════╡\n",
       "│ VA61_2022 ┆ NA          ┆ 25        ┆ 19154 ┆ … ┆ WP_00419923 ┆ carbapenem ┆ NA     ┆ NA         │\n",
       "│           ┆             ┆           ┆       ┆   ┆ 4.1         ┆ -hydrolyzi ┆        ┆            │\n",
       "│           ┆             ┆           ┆       ┆   ┆             ┆ ng class A ┆        ┆            │\n",
       "│           ┆             ┆           ┆       ┆   ┆             ┆ b…         ┆        ┆            │\n",
       "└───────────┴─────────────┴───────────┴───────┴───┴─────────────┴────────────┴────────┴────────────┘"
      ]
     },
     "metadata": {},
     "output_type": "display_data"
    }
   ],
   "source": [
    "VA61_F = VA61_2022.filter(pl.col(\"Gene symbol\").str.contains(\"kpc|ndm|vim|KPC|NDM|VIM\"))\n",
    "\n",
    "print(\"ISP-reported proteins founded = \", VA61_F.shape[0])\n",
    "display(VA61_F.head(4))"
   ]
  },
  {
   "cell_type": "markdown",
   "metadata": {},
   "source": [
    "#### __Run AMR finder on all samples__"
   ]
  },
  {
   "cell_type": "markdown",
   "metadata": {},
   "source": [
    "##### __Unicycler assemblies__\n",
    "\n",
    "Only illumina short reads assembly"
   ]
  },
  {
   "cell_type": "code",
   "execution_count": 1,
   "metadata": {},
   "outputs": [
    {
     "name": "stderr",
     "output_type": "stream",
     "text": [
      "Running: amrfinder --nucleotide /home/npilquinao/BEM-ISP/group_storage/npilquinao/ISP/2carbapenemase/assembly/VA1046_2020/assembly.fasta --name VA1046_2020 --plus --threads 40 -o /home/npilquinao/BEM-ISP/AMRfinder/VA1046_2020_amrfinder.tsv\n",
      "Software directory: '/home/npilquinao/miniconda3/envs/ISP/bin/'\n",
      "Software version: 3.12.8\n",
      "Database directory: '/home/npilquinao/miniconda3/envs/ISP/share/amrfinderplus/data/2024-01-31.1'\n",
      "Database version: 2024-01-31.1\n",
      "AMRFinder translated nucleotide search\n",
      "  - include -O ORGANISM, --organism ORGANISM option to add mutation searches and suppress common proteins\n",
      "Running tblastn\n",
      "Making report\n",
      "AMRFinder took 2 seconds to complete\n",
      "Running: amrfinder --nucleotide /home/npilquinao/BEM-ISP/group_storage/npilquinao/ISP/2carbapenemase/assembly/VA1184_2021/assembly.fasta --name VA1184_2021 --plus --threads 40 -o /home/npilquinao/BEM-ISP/AMRfinder/VA1184_2021_amrfinder.tsv\n",
      "Software directory: '/home/npilquinao/miniconda3/envs/ISP/bin/'\n",
      "Software version: 3.12.8\n",
      "Database directory: '/home/npilquinao/miniconda3/envs/ISP/share/amrfinderplus/data/2024-01-31.1'\n",
      "Database version: 2024-01-31.1\n",
      "AMRFinder translated nucleotide search\n",
      "  - include -O ORGANISM, --organism ORGANISM option to add mutation searches and suppress common proteins\n",
      "Running tblastn\n",
      "Making report\n",
      "AMRFinder took 3 seconds to complete\n",
      "Running: amrfinder --nucleotide /home/npilquinao/BEM-ISP/group_storage/npilquinao/ISP/2carbapenemase/assembly/VA1788_2021/assembly.fasta --name VA1788_2021 --plus --threads 40 -o /home/npilquinao/BEM-ISP/AMRfinder/VA1788_2021_amrfinder.tsv\n",
      "Software directory: '/home/npilquinao/miniconda3/envs/ISP/bin/'\n",
      "Software version: 3.12.8\n",
      "Database directory: '/home/npilquinao/miniconda3/envs/ISP/share/amrfinderplus/data/2024-01-31.1'\n",
      "Database version: 2024-01-31.1\n",
      "AMRFinder translated nucleotide search\n",
      "  - include -O ORGANISM, --organism ORGANISM option to add mutation searches and suppress common proteins\n",
      "Running tblastn\n",
      "Making report\n",
      "AMRFinder took 4 seconds to complete\n",
      "Running: amrfinder --nucleotide /home/npilquinao/BEM-ISP/group_storage/npilquinao/ISP/2carbapenemase/assembly/VA2464_2020/assembly.fasta --name VA2464_2020 --plus --threads 40 -o /home/npilquinao/BEM-ISP/AMRfinder/VA2464_2020_amrfinder.tsv\n",
      "Software directory: '/home/npilquinao/miniconda3/envs/ISP/bin/'\n",
      "Software version: 3.12.8\n",
      "Database directory: '/home/npilquinao/miniconda3/envs/ISP/share/amrfinderplus/data/2024-01-31.1'\n",
      "Database version: 2024-01-31.1\n",
      "AMRFinder translated nucleotide search\n",
      "  - include -O ORGANISM, --organism ORGANISM option to add mutation searches and suppress common proteins\n",
      "Running tblastn\n",
      "Making report\n",
      "AMRFinder took 3 seconds to complete\n",
      "Running: amrfinder --nucleotide /home/npilquinao/BEM-ISP/group_storage/npilquinao/ISP/2carbapenemase/assembly/VA418_2022/assembly.fasta --name VA418_2022 --plus --threads 40 -o /home/npilquinao/BEM-ISP/AMRfinder/VA418_2022_amrfinder.tsv\n",
      "Software directory: '/home/npilquinao/miniconda3/envs/ISP/bin/'\n",
      "Software version: 3.12.8\n",
      "Database directory: '/home/npilquinao/miniconda3/envs/ISP/share/amrfinderplus/data/2024-01-31.1'\n",
      "Database version: 2024-01-31.1\n",
      "AMRFinder translated nucleotide search\n",
      "  - include -O ORGANISM, --organism ORGANISM option to add mutation searches and suppress common proteins\n",
      "Running tblastn\n",
      "Making report\n",
      "AMRFinder took 4 seconds to complete\n",
      "Running: amrfinder --nucleotide /home/npilquinao/BEM-ISP/group_storage/npilquinao/ISP/2carbapenemase/assembly/VA692_2022/assembly.fasta --name VA692_2022 --plus --threads 40 -o /home/npilquinao/BEM-ISP/AMRfinder/VA692_2022_amrfinder.tsv\n",
      "Software directory: '/home/npilquinao/miniconda3/envs/ISP/bin/'\n",
      "Software version: 3.12.8\n",
      "Database directory: '/home/npilquinao/miniconda3/envs/ISP/share/amrfinderplus/data/2024-01-31.1'\n",
      "Database version: 2024-01-31.1\n",
      "AMRFinder translated nucleotide search\n",
      "  - include -O ORGANISM, --organism ORGANISM option to add mutation searches and suppress common proteins\n",
      "Running tblastn\n",
      "Making report\n",
      "AMRFinder took 5 seconds to complete\n",
      "Running: amrfinder --nucleotide /home/npilquinao/BEM-ISP/group_storage/npilquinao/ISP/2carbapenemase/assembly/VA1101_2021/assembly.fasta --name VA1101_2021 --plus --threads 40 -o /home/npilquinao/BEM-ISP/AMRfinder/VA1101_2021_amrfinder.tsv\n",
      "Software directory: '/home/npilquinao/miniconda3/envs/ISP/bin/'\n",
      "Software version: 3.12.8\n",
      "Database directory: '/home/npilquinao/miniconda3/envs/ISP/share/amrfinderplus/data/2024-01-31.1'\n",
      "Database version: 2024-01-31.1\n",
      "AMRFinder translated nucleotide search\n",
      "  - include -O ORGANISM, --organism ORGANISM option to add mutation searches and suppress common proteins\n",
      "Running tblastn\n",
      "Making report\n",
      "AMRFinder took 3 seconds to complete\n",
      "Running: amrfinder --nucleotide /home/npilquinao/BEM-ISP/group_storage/npilquinao/ISP/2carbapenemase/assembly/VA1565_2021/assembly.fasta --name VA1565_2021 --plus --threads 40 -o /home/npilquinao/BEM-ISP/AMRfinder/VA1565_2021_amrfinder.tsv\n",
      "Software directory: '/home/npilquinao/miniconda3/envs/ISP/bin/'\n",
      "Software version: 3.12.8\n",
      "Database directory: '/home/npilquinao/miniconda3/envs/ISP/share/amrfinderplus/data/2024-01-31.1'\n",
      "Database version: 2024-01-31.1\n",
      "AMRFinder translated nucleotide search\n",
      "  - include -O ORGANISM, --organism ORGANISM option to add mutation searches and suppress common proteins\n",
      "Running tblastn\n",
      "Making report\n",
      "AMRFinder took 3 seconds to complete\n",
      "Running: amrfinder --nucleotide /home/npilquinao/BEM-ISP/group_storage/npilquinao/ISP/2carbapenemase/assembly/VA2067_2020/assembly.fasta --name VA2067_2020 --plus --threads 40 -o /home/npilquinao/BEM-ISP/AMRfinder/VA2067_2020_amrfinder.tsv\n",
      "Software directory: '/home/npilquinao/miniconda3/envs/ISP/bin/'\n",
      "Software version: 3.12.8\n",
      "Database directory: '/home/npilquinao/miniconda3/envs/ISP/share/amrfinderplus/data/2024-01-31.1'\n",
      "Database version: 2024-01-31.1\n",
      "AMRFinder translated nucleotide search\n",
      "  - include -O ORGANISM, --organism ORGANISM option to add mutation searches and suppress common proteins\n",
      "Running tblastn\n",
      "Making report\n",
      "AMRFinder took 5 seconds to complete\n",
      "Running: amrfinder --nucleotide /home/npilquinao/BEM-ISP/group_storage/npilquinao/ISP/2carbapenemase/assembly/VA2588_2020/assembly.fasta --name VA2588_2020 --plus --threads 40 -o /home/npilquinao/BEM-ISP/AMRfinder/VA2588_2020_amrfinder.tsv\n",
      "Software directory: '/home/npilquinao/miniconda3/envs/ISP/bin/'\n",
      "Software version: 3.12.8\n",
      "Database directory: '/home/npilquinao/miniconda3/envs/ISP/share/amrfinderplus/data/2024-01-31.1'\n",
      "Database version: 2024-01-31.1\n",
      "AMRFinder translated nucleotide search\n",
      "  - include -O ORGANISM, --organism ORGANISM option to add mutation searches and suppress common proteins\n",
      "Running tblastn\n",
      "Making report\n",
      "AMRFinder took 4 seconds to complete\n",
      "Running: amrfinder --nucleotide /home/npilquinao/BEM-ISP/group_storage/npilquinao/ISP/2carbapenemase/assembly/VA585_2022/assembly.fasta --name VA585_2022 --plus --threads 40 -o /home/npilquinao/BEM-ISP/AMRfinder/VA585_2022_amrfinder.tsv\n",
      "Software directory: '/home/npilquinao/miniconda3/envs/ISP/bin/'\n",
      "Software version: 3.12.8\n",
      "Database directory: '/home/npilquinao/miniconda3/envs/ISP/share/amrfinderplus/data/2024-01-31.1'\n",
      "Database version: 2024-01-31.1\n",
      "AMRFinder translated nucleotide search\n",
      "  - include -O ORGANISM, --organism ORGANISM option to add mutation searches and suppress common proteins\n",
      "Running tblastn\n",
      "Making report\n",
      "AMRFinder took 3 seconds to complete\n"
     ]
    }
   ],
   "source": [
    "%%bash\n",
    "\n",
    "samples=(\"VA1046_2020\" \"VA1184_2021\" \"VA1788_2021\" \"VA2464_2020\" \"VA418_2022\" \"VA692_2022\" \n",
    "          \"VA1101_2021\" \"VA1565_2021\" \"VA2067_2020\" \"VA2588_2020\" \"VA585_2022\")\n",
    "          \n",
    "for dir in \"${samples[@]}\"\n",
    "do\n",
    "    amrfinder\\\n",
    "        --nucleotide /home/npilquinao/BEM-ISP/group_storage/npilquinao/ISP/2carbapenemase/assembly/${dir}/assembly.fasta\\\n",
    "        --name ${dir}\\\n",
    "        --plus\\\n",
    "        --threads 40\\\n",
    "        -o ~/BEM-ISP/AMRfinder/${dir}_amrfinder.tsv\n",
    "done\n",
    "\n",
    "head -n 1 ~/BEM-ISP/AMRfinder/VA1046_2020_amrfinder.tsv > ~/BEM-ISP/AMRfinder/complete_amrfinder.tsv\n",
    "\n",
    "for dir in \"${samples[@]}\"\n",
    "do\n",
    "    tail -n +2 ~/BEM-ISP/AMRfinder/${dir}_amrfinder.tsv >> ~/BEM-ISP/AMRfinder/complete_amrfinder.tsv\n",
    "done"
   ]
  },
  {
   "cell_type": "code",
   "execution_count": 1,
   "metadata": {},
   "outputs": [
    {
     "name": "stdout",
     "output_type": "stream",
     "text": [
      "Dimensions: (15, 23)\n"
     ]
    },
    {
     "data": {
      "text/plain": [
       "['VA1046_2020',\n",
       " 'VA1184_2021',\n",
       " 'VA1788_2021',\n",
       " 'VA2464_2020',\n",
       " 'VA418_2022',\n",
       " 'VA692_2022',\n",
       " 'VA692_2022',\n",
       " 'VA1101_2021',\n",
       " 'VA1101_2021',\n",
       " 'VA1565_2021',\n",
       " 'VA2067_2020',\n",
       " 'VA2067_2020',\n",
       " 'VA2588_2020',\n",
       " 'VA585_2022',\n",
       " 'VA585_2022']"
      ]
     },
     "metadata": {},
     "output_type": "display_data"
    }
   ],
   "source": [
    "AMRfinder = pl.read_csv(R + \"/complete_amrfinder.tsv\",\n",
    "                        separator=\"\\t\")\n",
    "\n",
    "### Carbapenemase gen identifiers ###\n",
    "\n",
    "carbapenemase = [\"KPC\",     # KPC (Klebsiella pneumoniae carbapenemase)\n",
    "                 \"VIM\",     # VIM (Verona integron-encoded metallo-β-lactamase)\n",
    "                 \"IMP\",     # IMP (Imipenemase)\n",
    "                 \"NDM\",     # NDM (New Delhi metallo-β-lactamase)\n",
    "                 \"OXA-48\",  # OXA (Oxacillinase)\n",
    "                 \"AIM\",     # AIM (Australian Imipenemase)\n",
    "                 \"SPM\",     # SPM (São Paulo metallo-β-lactamase)\n",
    "                 \"SIM\",     # SIM (Serratia In19-like carbapenemase)\n",
    "                 \"GES\"]     # GES (Guiana Extended-Spectrum)\n",
    "\n",
    "AMRfinder_filtered = AMRfinder.filter(pl.col('Gene symbol').map_elements(lambda value: any(word in value for word in carbapenemase), return_dtype=bool))\n",
    "print(f\"Dimensions: {AMRfinder_filtered.shape}\")\n",
    "display(AMRfinder_filtered[\"Name\"].to_list())"
   ]
  },
  {
   "cell_type": "code",
   "execution_count": 2,
   "metadata": {},
   "outputs": [],
   "source": [
    "pl.DataFrame.write_csv(AMRfinder_filtered, \"~/BEM-ISP/AMRfinder/AMRfinder_only_carbapenemase.tsv\", separator=\"\\t\")"
   ]
  }
 ],
 "metadata": {
  "kernelspec": {
   "display_name": "ISP",
   "language": "python",
   "name": "python3"
  },
  "language_info": {
   "codemirror_mode": {
    "name": "ipython",
    "version": 3
   },
   "file_extension": ".py",
   "mimetype": "text/x-python",
   "name": "python",
   "nbconvert_exporter": "python",
   "pygments_lexer": "ipython3",
   "version": "3.11.8"
  }
 },
 "nbformat": 4,
 "nbformat_minor": 2
}
