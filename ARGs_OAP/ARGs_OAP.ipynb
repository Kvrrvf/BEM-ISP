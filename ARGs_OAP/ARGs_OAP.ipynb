{
 "cells": [
  {
   "cell_type": "markdown",
   "metadata": {},
   "source": [
    "#### __ARGs-OAP__\n",
    "\n",
    "Online Analysis Pipeline for Antibiotic Resistance Genes Detection from __Metagenomic Data__ Using an Integrated Structured ARG Database "
   ]
  },
  {
   "cell_type": "code",
   "execution_count": 2,
   "metadata": {},
   "outputs": [
    {
     "name": "stdout",
     "output_type": "stream",
     "text": [
      "usage: args_oap stage_one [-h] -i DIR -o DIR [-t INT] [-f EXT] [--e1 FLOAT]\n",
      "                          [--e2 FLOAT] [--id FLOAT] [--qcov FLOAT] [--skip]\n",
      "                          [--keep] [--database FILE]\n",
      "\n",
      "options:\n",
      "  -h, --help            show this help message and exit\n",
      "\n",
      "required arguments:\n",
      "  -i DIR, --indir DIR   Input folder.\n",
      "  -o DIR, --outdir DIR  Output folder.\n",
      "\n",
      "optional arguments:\n",
      "  -t INT, --thread INT  Number of threads. [8]\n",
      "  -f EXT, --format EXT  File format in input folder (--indir), gzipped (*.gz)\n",
      "                        optional. [fq]\n",
      "  --e1 FLOAT            E-value cutoff for GreenGenes. [1e-10]\n",
      "  --e2 FLOAT            E-value cutoff for Essential Single Copy Marker Genes.\n",
      "                        [3]\n",
      "  --id FLOAT            Identity cutoff (in percentage) for Essential Single\n",
      "                        Copy Marker Genes. [45]\n",
      "  --qcov FLOAT          Query cover cutoff (in percentage) for Essential\n",
      "                        Single Copy Marker Genes. [0]\n",
      "  --skip                Skip cell number and 16S copy number estimation.\n",
      "  --keep                Keep all temporary files (*.tmp) in output folder\n",
      "                        (--outdir).\n",
      "\n",
      "database arguments:\n",
      "  --database FILE       Customized database (indexed) other than SARG. [None]\n"
     ]
    }
   ],
   "source": [
    "!args_oap stage_one --help"
   ]
  },
  {
   "cell_type": "code",
   "execution_count": null,
   "metadata": {},
   "outputs": [],
   "source": []
  }
 ],
 "metadata": {
  "kernelspec": {
   "display_name": "ISP",
   "language": "python",
   "name": "python3"
  },
  "language_info": {
   "codemirror_mode": {
    "name": "ipython",
    "version": 3
   },
   "file_extension": ".py",
   "mimetype": "text/x-python",
   "name": "python",
   "nbconvert_exporter": "python",
   "pygments_lexer": "ipython3",
   "version": "3.11.8"
  }
 },
 "nbformat": 4,
 "nbformat_minor": 2
}
